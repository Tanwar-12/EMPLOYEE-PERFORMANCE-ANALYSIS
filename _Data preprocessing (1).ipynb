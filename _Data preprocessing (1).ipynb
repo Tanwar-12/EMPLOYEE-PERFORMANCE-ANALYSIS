{
 "cells": [
  {
   "cell_type": "markdown",
   "id": "b6cd5950",
   "metadata": {},
   "source": [
    "# DATA SCIENCE PROJECT ON INX FUTURE INC EMPLOYEE PERFORMANCE ANALYSIS"
   ]
  },
  {
   "cell_type": "markdown",
   "id": "193a5d5d",
   "metadata": {},
   "source": [
    "# BUISNESS CASE: BASED ON GIVEN FEATURE OF DATASET WE NEED TO PREDICT THE PERFOMANCE RATING OF EMPLOYEE"
   ]
  },
  {
   "cell_type": "markdown",
   "id": "b4a7c84a",
   "metadata": {},
   "source": [
    "## DATA PRE-PROCESSING & FEATURE SELECTION:"
   ]
  },
  {
   "cell_type": "markdown",
   "id": "dfc2d5fc",
   "metadata": {},
   "source": [
    "### DATA PRE-PROCESSING SUMMARY:Ckeck Missing Value\n",
    "* Convert categorical to numerical\n",
    "* Check outliers & Impute outliers\n",
    "* Feature transformation\n",
    "* Ckeck Missing Value\n"
   ]
  },
  {
   "cell_type": "markdown",
   "id": "ce9534b4",
   "metadata": {},
   "source": [
    "### FEATURE SELECTION SUMMARY:\n",
    "* Drop unique & Constant Column\n",
    "* Check correlation with heatmap & Remove highly correlated feature\n",
    "* Check Duplicates\n",
    "* Principle component analysis\n",
    "* Save pre-process data"
   ]
  },
  {
   "cell_type": "markdown",
   "id": "161124d1",
   "metadata": {},
   "source": [
    "### IMPORT NECESSARY LIBRARY"
   ]
  },
  {
   "cell_type": "code",
   "execution_count": 2,
   "id": "9f6f293d",
   "metadata": {},
   "outputs": [],
   "source": [
    "import pandas as pd\n",
    "import numpy as np\n",
    "import matplotlib.pyplot as plt\n",
    "%matplotlib inline\n",
    "import seaborn as sns\n",
    "from scipy import stats\n",
    "import pylab\n",
    "import warnings # Used to supressed the warnings\n",
    "warnings.filterwarnings('ignore')"
   ]
  },
  {
   "cell_type": "markdown",
   "id": "0ac8a504",
   "metadata": {},
   "source": [
    "### LOAD DATA FOR EXPLOTARY DATA ANALYSIS"
   ]
  },
  {
   "cell_type": "code",
   "execution_count": 3,
   "id": "7f385bd5",
   "metadata": {},
   "outputs": [],
   "source": [
    "data = pd.read_excel('INX_Future_Inc_Employee_Performance_CDS_Project2_Data_V1.8 (2).xls')\n",
    "pd.set_option('display.max_columns',None) # Used to display the all features"
   ]
  },
  {
   "cell_type": "markdown",
   "id": "0ec7ce5f",
   "metadata": {},
   "source": [
    "### CHECK MISSING VALUE:"
   ]
  },
  {
   "cell_type": "code",
   "execution_count": 4,
   "id": "a3dcdd5c",
   "metadata": {},
   "outputs": [
    {
     "data": {
      "text/plain": [
       "EmpNumber                       0\n",
       "Age                             0\n",
       "Gender                          0\n",
       "EducationBackground             0\n",
       "MaritalStatus                   0\n",
       "EmpDepartment                   0\n",
       "EmpJobRole                      0\n",
       "BusinessTravelFrequency         0\n",
       "DistanceFromHome                0\n",
       "EmpEducationLevel               0\n",
       "EmpEnvironmentSatisfaction      0\n",
       "EmpHourlyRate                   0\n",
       "EmpJobInvolvement               0\n",
       "EmpJobLevel                     0\n",
       "EmpJobSatisfaction              0\n",
       "NumCompaniesWorked              0\n",
       "OverTime                        0\n",
       "EmpLastSalaryHikePercent        0\n",
       "EmpRelationshipSatisfaction     0\n",
       "TotalWorkExperienceInYears      0\n",
       "TrainingTimesLastYear           0\n",
       "EmpWorkLifeBalance              0\n",
       "ExperienceYearsAtThisCompany    0\n",
       "ExperienceYearsInCurrentRole    0\n",
       "YearsSinceLastPromotion         0\n",
       "YearsWithCurrManager            0\n",
       "Attrition                       0\n",
       "PerformanceRating               0\n",
       "dtype: int64"
      ]
     },
     "execution_count": 4,
     "metadata": {},
     "output_type": "execute_result"
    }
   ],
   "source": [
    "data.isnull().sum()"
   ]
  },
  {
   "cell_type": "markdown",
   "id": "50f41f19",
   "metadata": {},
   "source": [
    "* Their is no missing value present in the data."
   ]
  },
  {
   "cell_type": "markdown",
   "id": "96e378c7",
   "metadata": {},
   "source": [
    "### CONVERT CATEGORICAL TO NUMERICAL"
   ]
  },
  {
   "cell_type": "code",
   "execution_count": 5,
   "id": "5931bda6",
   "metadata": {},
   "outputs": [
    {
     "data": {
      "text/plain": [
       "['EmpNumber',\n",
       " 'Gender',\n",
       " 'EducationBackground',\n",
       " 'MaritalStatus',\n",
       " 'EmpDepartment',\n",
       " 'EmpJobRole',\n",
       " 'BusinessTravelFrequency',\n",
       " 'OverTime',\n",
       " 'Attrition']"
      ]
     },
     "execution_count": 5,
     "metadata": {},
     "output_type": "execute_result"
    }
   ],
   "source": [
    "# Get all categorical feature list\n",
    "list(data.select_dtypes('object'))"
   ]
  },
  {
   "cell_type": "markdown",
   "id": "e03941e0",
   "metadata": {},
   "source": [
    "### Technique Used:\n",
    "\n",
    "#### 1.Mannual Encoding: Mannual encoding is a best techinque to handel categorical feature with the help of map function, map the labels based on frequency.\n",
    "\n",
    "#### 2.Frequency Encoding: Frequency encoding is an encoding technique to transform an original categorical variable to a numerical variable by considering the frequency distribution of the data getting value counts."
   ]
  },
  {
   "cell_type": "markdown",
   "id": "5e4b5b97",
   "metadata": {},
   "source": [
    "### 1.Gender:"
   ]
  },
  {
   "cell_type": "code",
   "execution_count": 6,
   "id": "53dd0401",
   "metadata": {},
   "outputs": [
    {
     "data": {
      "text/plain": [
       "Male      725\n",
       "Female    475\n",
       "Name: Gender, dtype: int64"
      ]
     },
     "execution_count": 6,
     "metadata": {},
     "output_type": "execute_result"
    }
   ],
   "source": [
    "# Get value counts of gender\n",
    "data.Gender.value_counts()"
   ]
  },
  {
   "cell_type": "code",
   "execution_count": 7,
   "id": "3b0674fc",
   "metadata": {},
   "outputs": [],
   "source": [
    "# Use mannual encoding to map the labels\n",
    "data.Gender = data.Gender.map({'Male':1,'Female':0})"
   ]
  },
  {
   "cell_type": "markdown",
   "id": "5ffa19bf",
   "metadata": {},
   "source": [
    "* Map male with 1 and female with 0"
   ]
  },
  {
   "cell_type": "markdown",
   "id": "f025affb",
   "metadata": {},
   "source": [
    "### 2.Education Background"
   ]
  },
  {
   "cell_type": "code",
   "execution_count": 8,
   "id": "2beee0bd",
   "metadata": {},
   "outputs": [
    {
     "data": {
      "text/plain": [
       "Life Sciences       492\n",
       "Medical             384\n",
       "Marketing           137\n",
       "Technical Degree    100\n",
       "Other                66\n",
       "Human Resources      21\n",
       "Name: EducationBackground, dtype: int64"
      ]
     },
     "execution_count": 8,
     "metadata": {},
     "output_type": "execute_result"
    }
   ],
   "source": [
    "# Get value counts of Education Background\n",
    "data.EducationBackground.value_counts()"
   ]
  },
  {
   "cell_type": "code",
   "execution_count": 9,
   "id": "62972fa7",
   "metadata": {},
   "outputs": [],
   "source": [
    "# Use frequency encoding\n",
    "data.loc[data['EducationBackground']=='Life Sciences','EducationBackground']=5\n",
    "data.loc[data['EducationBackground']=='Medical','EducationBackground']=4\n",
    "data.loc[data['EducationBackground']=='Marketing','EducationBackground']=3\n",
    "data.loc[data['EducationBackground']=='Technical Degree','EducationBackground']=2\n",
    "data.loc[data['EducationBackground']=='Other','EducationBackground']=1\n",
    "data.loc[data['EducationBackground']=='Human Resources','EducationBackground']=0"
   ]
  },
  {
   "cell_type": "code",
   "execution_count": 10,
   "id": "ccd7e9f3",
   "metadata": {},
   "outputs": [
    {
     "data": {
      "text/plain": [
       "5    492\n",
       "4    384\n",
       "3    137\n",
       "2    100\n",
       "1     66\n",
       "0     21\n",
       "Name: EducationBackground, dtype: int64"
      ]
     },
     "execution_count": 10,
     "metadata": {},
     "output_type": "execute_result"
    }
   ],
   "source": [
    "# Checking conversion happen or not\n",
    "data.EducationBackground.value_counts()"
   ]
  },
  {
   "cell_type": "markdown",
   "id": "fbeca5e4",
   "metadata": {},
   "source": [
    "### 3.Marital Status"
   ]
  },
  {
   "cell_type": "code",
   "execution_count": 11,
   "id": "3aed79e6",
   "metadata": {},
   "outputs": [
    {
     "data": {
      "text/plain": [
       "Married     548\n",
       "Single      384\n",
       "Divorced    268\n",
       "Name: MaritalStatus, dtype: int64"
      ]
     },
     "execution_count": 11,
     "metadata": {},
     "output_type": "execute_result"
    }
   ],
   "source": [
    "# Get the value counts of marital status\n",
    "data.MaritalStatus.value_counts()"
   ]
  },
  {
   "cell_type": "code",
   "execution_count": 12,
   "id": "50b1565f",
   "metadata": {},
   "outputs": [],
   "source": [
    "# Use mannual encoding\n",
    "data.MaritalStatus = data.MaritalStatus.map({'Married':2,'Single':1,'Divorced':0})"
   ]
  },
  {
   "cell_type": "code",
   "execution_count": 13,
   "id": "7bb4ee82",
   "metadata": {},
   "outputs": [
    {
     "data": {
      "text/plain": [
       "2    548\n",
       "1    384\n",
       "0    268\n",
       "Name: MaritalStatus, dtype: int64"
      ]
     },
     "execution_count": 13,
     "metadata": {},
     "output_type": "execute_result"
    }
   ],
   "source": [
    "# Check conversion happen or not\n",
    "data.MaritalStatus.value_counts()"
   ]
  },
  {
   "cell_type": "markdown",
   "id": "87548576",
   "metadata": {},
   "source": [
    "### 4.Employee Department"
   ]
  },
  {
   "cell_type": "code",
   "execution_count": 14,
   "id": "94a0d035",
   "metadata": {},
   "outputs": [
    {
     "data": {
      "text/plain": [
       "Sales                     373\n",
       "Development               361\n",
       "Research & Development    343\n",
       "Human Resources            54\n",
       "Finance                    49\n",
       "Data Science               20\n",
       "Name: EmpDepartment, dtype: int64"
      ]
     },
     "execution_count": 14,
     "metadata": {},
     "output_type": "execute_result"
    }
   ],
   "source": [
    "# Get the value counts of employee department \n",
    "data.EmpDepartment.value_counts()"
   ]
  },
  {
   "cell_type": "code",
   "execution_count": 15,
   "id": "02eb6e31",
   "metadata": {},
   "outputs": [],
   "source": [
    "# Use Frequency encoding\n",
    "data.loc[data['EmpDepartment']=='Sales','EmpDepartment']=5\n",
    "data.loc[data['EmpDepartment']=='Development','EmpDepartment']=4\n",
    "data.loc[data['EmpDepartment']=='Research & Development','EmpDepartment']=3\n",
    "data.loc[data['EmpDepartment']=='Human Resources','EmpDepartment']=2\n",
    "data.loc[data['EmpDepartment']=='Finance','EmpDepartment']=1\n",
    "data.loc[data['EmpDepartment']=='Data Science','EmpDepartment']=0"
   ]
  },
  {
   "cell_type": "code",
   "execution_count": 16,
   "id": "976abce0",
   "metadata": {},
   "outputs": [
    {
     "data": {
      "text/plain": [
       "5    373\n",
       "4    361\n",
       "3    343\n",
       "2     54\n",
       "1     49\n",
       "0     20\n",
       "Name: EmpDepartment, dtype: int64"
      ]
     },
     "execution_count": 16,
     "metadata": {},
     "output_type": "execute_result"
    }
   ],
   "source": [
    "# Check conversion happen or not\n",
    "data.EmpDepartment.value_counts()"
   ]
  },
  {
   "cell_type": "markdown",
   "id": "7449e465",
   "metadata": {},
   "source": [
    "### 5.Employee Job Role"
   ]
  },
  {
   "cell_type": "code",
   "execution_count": 17,
   "id": "7d9d4aef",
   "metadata": {},
   "outputs": [
    {
     "data": {
      "text/plain": [
       "Sales Executive              270\n",
       "Developer                    236\n",
       "Manager R&D                   94\n",
       "Research Scientist            77\n",
       "Sales Representative          69\n",
       "Laboratory Technician         64\n",
       "Senior Developer              52\n",
       "Manager                       51\n",
       "Finance Manager               49\n",
       "Human Resources               45\n",
       "Technical Lead                38\n",
       "Manufacturing Director        33\n",
       "Healthcare Representative     33\n",
       "Data Scientist                20\n",
       "Research Director             19\n",
       "Business Analyst              16\n",
       "Senior Manager R&D            15\n",
       "Delivery Manager              12\n",
       "Technical Architect            7\n",
       "Name: EmpJobRole, dtype: int64"
      ]
     },
     "execution_count": 17,
     "metadata": {},
     "output_type": "execute_result"
    }
   ],
   "source": [
    "# Getting the value counts of EmpJobRole\n",
    "data.EmpJobRole.value_counts()"
   ]
  },
  {
   "cell_type": "code",
   "execution_count": 18,
   "id": "71a22dc2",
   "metadata": {},
   "outputs": [],
   "source": [
    "# Use frequency encoding because feature contain a lots of label\n",
    "data.loc[data['EmpJobRole']=='Sales Executive','EmpJobRole']=18\n",
    "data.loc[data['EmpJobRole']=='Developer','EmpJobRole']=17\n",
    "data.loc[data['EmpJobRole']=='Manager R&D','EmpJobRole']=16\n",
    "data.loc[data['EmpJobRole']=='Research Scientist','EmpJobRole']=15\n",
    "data.loc[data['EmpJobRole']=='Sales Representative','EmpJobRole']=14\n",
    "data.loc[data['EmpJobRole']=='Laboratory Technician','EmpJobRole']=13\n",
    "data.loc[data['EmpJobRole']=='Senior Developer','EmpJobRole']=12\n",
    "data.loc[data['EmpJobRole']=='Manager','EmpJobRole']=11\n",
    "data.loc[data['EmpJobRole']=='Finance Manager','EmpJobRole']=10\n",
    "data.loc[data['EmpJobRole']=='Human Resources','EmpJobRole']=9\n",
    "data.loc[data['EmpJobRole']=='Technical Lead','EmpJobRole']=8\n",
    "data.loc[data['EmpJobRole']=='Manufacturing Director','EmpJobRole']=7\n",
    "data.loc[data['EmpJobRole']=='Healthcare Representative','EmpJobRole']=6\n",
    "data.loc[data['EmpJobRole']=='Data Scientist','EmpJobRole']=5\n",
    "data.loc[data['EmpJobRole']=='Research Director','EmpJobRole']=4\n",
    "data.loc[data['EmpJobRole']=='Business Analyst','EmpJobRole']=3\n",
    "data.loc[data['EmpJobRole']=='Senior Manager R&D','EmpJobRole']=2\n",
    "data.loc[data['EmpJobRole']=='Delivery Manager','EmpJobRole']=1\n",
    "data.loc[data['EmpJobRole']=='Technical Architect','EmpJobRole']=0"
   ]
  },
  {
   "cell_type": "code",
   "execution_count": 19,
   "id": "1b6a5f4d",
   "metadata": {},
   "outputs": [
    {
     "data": {
      "text/plain": [
       "18    270\n",
       "17    236\n",
       "16     94\n",
       "15     77\n",
       "14     69\n",
       "13     64\n",
       "12     52\n",
       "11     51\n",
       "10     49\n",
       "9      45\n",
       "8      38\n",
       "7      33\n",
       "6      33\n",
       "5      20\n",
       "4      19\n",
       "3      16\n",
       "2      15\n",
       "1      12\n",
       "0       7\n",
       "Name: EmpJobRole, dtype: int64"
      ]
     },
     "execution_count": 19,
     "metadata": {},
     "output_type": "execute_result"
    }
   ],
   "source": [
    "# Check conversion happen or not\n",
    "data.EmpJobRole.value_counts()"
   ]
  },
  {
   "cell_type": "markdown",
   "id": "94eb3d4e",
   "metadata": {},
   "source": [
    "### 6.Business Travel Frequency:"
   ]
  },
  {
   "cell_type": "code",
   "execution_count": 20,
   "id": "be2b6402",
   "metadata": {},
   "outputs": [
    {
     "data": {
      "text/plain": [
       "Travel_Rarely        846\n",
       "Travel_Frequently    222\n",
       "Non-Travel           132\n",
       "Name: BusinessTravelFrequency, dtype: int64"
      ]
     },
     "execution_count": 20,
     "metadata": {},
     "output_type": "execute_result"
    }
   ],
   "source": [
    "# Get the value count of buisness travel frequency\n",
    "data.BusinessTravelFrequency.value_counts()"
   ]
  },
  {
   "cell_type": "code",
   "execution_count": 21,
   "id": "4315f825",
   "metadata": {},
   "outputs": [],
   "source": [
    "# Use mannual encoding Because feature contain minimum label\n",
    "data.BusinessTravelFrequency = data.BusinessTravelFrequency.map({'Travel_Rarely':2,'Travel_Frequently':1,'Non-Travel':0})"
   ]
  },
  {
   "cell_type": "code",
   "execution_count": 22,
   "id": "8f671892",
   "metadata": {},
   "outputs": [
    {
     "data": {
      "text/plain": [
       "2    846\n",
       "1    222\n",
       "0    132\n",
       "Name: BusinessTravelFrequency, dtype: int64"
      ]
     },
     "execution_count": 22,
     "metadata": {},
     "output_type": "execute_result"
    }
   ],
   "source": [
    "# Check conversion happen or not\n",
    "data.BusinessTravelFrequency.value_counts()"
   ]
  },
  {
   "cell_type": "markdown",
   "id": "ef1e096b",
   "metadata": {},
   "source": [
    "### 7.Overtime:"
   ]
  },
  {
   "cell_type": "code",
   "execution_count": 23,
   "id": "76466eab",
   "metadata": {},
   "outputs": [
    {
     "data": {
      "text/plain": [
       "No     847\n",
       "Yes    353\n",
       "Name: OverTime, dtype: int64"
      ]
     },
     "execution_count": 23,
     "metadata": {},
     "output_type": "execute_result"
    }
   ],
   "source": [
    "# Get the value count of Overtime\n",
    "data.OverTime.value_counts()"
   ]
  },
  {
   "cell_type": "code",
   "execution_count": 24,
   "id": "07ccd0c8",
   "metadata": {},
   "outputs": [],
   "source": [
    "# Use mannual Encoding\n",
    "data.OverTime = data.OverTime.map({'No':1,'Yes':0})"
   ]
  },
  {
   "cell_type": "code",
   "execution_count": 25,
   "id": "41d27759",
   "metadata": {},
   "outputs": [
    {
     "data": {
      "text/plain": [
       "1    847\n",
       "0    353\n",
       "Name: OverTime, dtype: int64"
      ]
     },
     "execution_count": 25,
     "metadata": {},
     "output_type": "execute_result"
    }
   ],
   "source": [
    "# Check conversion happen or not\n",
    "data.OverTime.value_counts()"
   ]
  },
  {
   "cell_type": "markdown",
   "id": "f2716022",
   "metadata": {},
   "source": [
    "### 8.Attrition"
   ]
  },
  {
   "cell_type": "code",
   "execution_count": 26,
   "id": "609acc9e",
   "metadata": {},
   "outputs": [
    {
     "data": {
      "text/plain": [
       "No     1022\n",
       "Yes     178\n",
       "Name: Attrition, dtype: int64"
      ]
     },
     "execution_count": 26,
     "metadata": {},
     "output_type": "execute_result"
    }
   ],
   "source": [
    "# Get the value counts of Attrition\n",
    "data.Attrition.value_counts()"
   ]
  },
  {
   "cell_type": "code",
   "execution_count": 27,
   "id": "b1614d8a",
   "metadata": {},
   "outputs": [],
   "source": [
    "# Use Mannual encoding because feature contain less no of label\n",
    "data.Attrition = data.Attrition.map({'No':1,'Yes':0})"
   ]
  },
  {
   "cell_type": "code",
   "execution_count": 28,
   "id": "fdbee35e",
   "metadata": {},
   "outputs": [
    {
     "data": {
      "text/plain": [
       "1    1022\n",
       "0     178\n",
       "Name: Attrition, dtype: int64"
      ]
     },
     "execution_count": 28,
     "metadata": {},
     "output_type": "execute_result"
    }
   ],
   "source": [
    "# Check conversion happen or not\n",
    "data.Attrition.value_counts()"
   ]
  },
  {
   "cell_type": "code",
   "execution_count": 29,
   "id": "8605de12",
   "metadata": {},
   "outputs": [
    {
     "data": {
      "text/html": [
       "<div>\n",
       "<style scoped>\n",
       "    .dataframe tbody tr th:only-of-type {\n",
       "        vertical-align: middle;\n",
       "    }\n",
       "\n",
       "    .dataframe tbody tr th {\n",
       "        vertical-align: top;\n",
       "    }\n",
       "\n",
       "    .dataframe thead th {\n",
       "        text-align: right;\n",
       "    }\n",
       "</style>\n",
       "<table border=\"1\" class=\"dataframe\">\n",
       "  <thead>\n",
       "    <tr style=\"text-align: right;\">\n",
       "      <th></th>\n",
       "      <th>EmpNumber</th>\n",
       "      <th>Age</th>\n",
       "      <th>Gender</th>\n",
       "      <th>EducationBackground</th>\n",
       "      <th>MaritalStatus</th>\n",
       "      <th>EmpDepartment</th>\n",
       "      <th>EmpJobRole</th>\n",
       "      <th>BusinessTravelFrequency</th>\n",
       "      <th>DistanceFromHome</th>\n",
       "      <th>EmpEducationLevel</th>\n",
       "      <th>EmpEnvironmentSatisfaction</th>\n",
       "      <th>EmpHourlyRate</th>\n",
       "      <th>EmpJobInvolvement</th>\n",
       "      <th>EmpJobLevel</th>\n",
       "      <th>EmpJobSatisfaction</th>\n",
       "      <th>NumCompaniesWorked</th>\n",
       "      <th>OverTime</th>\n",
       "      <th>EmpLastSalaryHikePercent</th>\n",
       "      <th>EmpRelationshipSatisfaction</th>\n",
       "      <th>TotalWorkExperienceInYears</th>\n",
       "      <th>TrainingTimesLastYear</th>\n",
       "      <th>EmpWorkLifeBalance</th>\n",
       "      <th>ExperienceYearsAtThisCompany</th>\n",
       "      <th>ExperienceYearsInCurrentRole</th>\n",
       "      <th>YearsSinceLastPromotion</th>\n",
       "      <th>YearsWithCurrManager</th>\n",
       "      <th>Attrition</th>\n",
       "      <th>PerformanceRating</th>\n",
       "    </tr>\n",
       "  </thead>\n",
       "  <tbody>\n",
       "    <tr>\n",
       "      <th>0</th>\n",
       "      <td>E1001000</td>\n",
       "      <td>32</td>\n",
       "      <td>1</td>\n",
       "      <td>3</td>\n",
       "      <td>1</td>\n",
       "      <td>5</td>\n",
       "      <td>18</td>\n",
       "      <td>2</td>\n",
       "      <td>10</td>\n",
       "      <td>3</td>\n",
       "      <td>4</td>\n",
       "      <td>55</td>\n",
       "      <td>3</td>\n",
       "      <td>2</td>\n",
       "      <td>4</td>\n",
       "      <td>1</td>\n",
       "      <td>1</td>\n",
       "      <td>12</td>\n",
       "      <td>4</td>\n",
       "      <td>10</td>\n",
       "      <td>2</td>\n",
       "      <td>2</td>\n",
       "      <td>10</td>\n",
       "      <td>7</td>\n",
       "      <td>0</td>\n",
       "      <td>8</td>\n",
       "      <td>1</td>\n",
       "      <td>3</td>\n",
       "    </tr>\n",
       "    <tr>\n",
       "      <th>1</th>\n",
       "      <td>E1001006</td>\n",
       "      <td>47</td>\n",
       "      <td>1</td>\n",
       "      <td>3</td>\n",
       "      <td>1</td>\n",
       "      <td>5</td>\n",
       "      <td>18</td>\n",
       "      <td>2</td>\n",
       "      <td>14</td>\n",
       "      <td>4</td>\n",
       "      <td>4</td>\n",
       "      <td>42</td>\n",
       "      <td>3</td>\n",
       "      <td>2</td>\n",
       "      <td>1</td>\n",
       "      <td>2</td>\n",
       "      <td>1</td>\n",
       "      <td>12</td>\n",
       "      <td>4</td>\n",
       "      <td>20</td>\n",
       "      <td>2</td>\n",
       "      <td>3</td>\n",
       "      <td>7</td>\n",
       "      <td>7</td>\n",
       "      <td>1</td>\n",
       "      <td>7</td>\n",
       "      <td>1</td>\n",
       "      <td>3</td>\n",
       "    </tr>\n",
       "    <tr>\n",
       "      <th>2</th>\n",
       "      <td>E1001007</td>\n",
       "      <td>40</td>\n",
       "      <td>1</td>\n",
       "      <td>5</td>\n",
       "      <td>2</td>\n",
       "      <td>5</td>\n",
       "      <td>18</td>\n",
       "      <td>1</td>\n",
       "      <td>5</td>\n",
       "      <td>4</td>\n",
       "      <td>4</td>\n",
       "      <td>48</td>\n",
       "      <td>2</td>\n",
       "      <td>3</td>\n",
       "      <td>1</td>\n",
       "      <td>5</td>\n",
       "      <td>0</td>\n",
       "      <td>21</td>\n",
       "      <td>3</td>\n",
       "      <td>20</td>\n",
       "      <td>2</td>\n",
       "      <td>3</td>\n",
       "      <td>18</td>\n",
       "      <td>13</td>\n",
       "      <td>1</td>\n",
       "      <td>12</td>\n",
       "      <td>1</td>\n",
       "      <td>4</td>\n",
       "    </tr>\n",
       "    <tr>\n",
       "      <th>3</th>\n",
       "      <td>E1001009</td>\n",
       "      <td>41</td>\n",
       "      <td>1</td>\n",
       "      <td>0</td>\n",
       "      <td>0</td>\n",
       "      <td>2</td>\n",
       "      <td>11</td>\n",
       "      <td>2</td>\n",
       "      <td>10</td>\n",
       "      <td>4</td>\n",
       "      <td>2</td>\n",
       "      <td>73</td>\n",
       "      <td>2</td>\n",
       "      <td>5</td>\n",
       "      <td>4</td>\n",
       "      <td>3</td>\n",
       "      <td>1</td>\n",
       "      <td>15</td>\n",
       "      <td>2</td>\n",
       "      <td>23</td>\n",
       "      <td>2</td>\n",
       "      <td>2</td>\n",
       "      <td>21</td>\n",
       "      <td>6</td>\n",
       "      <td>12</td>\n",
       "      <td>6</td>\n",
       "      <td>1</td>\n",
       "      <td>3</td>\n",
       "    </tr>\n",
       "    <tr>\n",
       "      <th>4</th>\n",
       "      <td>E1001010</td>\n",
       "      <td>60</td>\n",
       "      <td>1</td>\n",
       "      <td>3</td>\n",
       "      <td>1</td>\n",
       "      <td>5</td>\n",
       "      <td>18</td>\n",
       "      <td>2</td>\n",
       "      <td>16</td>\n",
       "      <td>4</td>\n",
       "      <td>1</td>\n",
       "      <td>84</td>\n",
       "      <td>3</td>\n",
       "      <td>2</td>\n",
       "      <td>1</td>\n",
       "      <td>8</td>\n",
       "      <td>1</td>\n",
       "      <td>14</td>\n",
       "      <td>4</td>\n",
       "      <td>10</td>\n",
       "      <td>1</td>\n",
       "      <td>3</td>\n",
       "      <td>2</td>\n",
       "      <td>2</td>\n",
       "      <td>2</td>\n",
       "      <td>2</td>\n",
       "      <td>1</td>\n",
       "      <td>3</td>\n",
       "    </tr>\n",
       "  </tbody>\n",
       "</table>\n",
       "</div>"
      ],
      "text/plain": [
       "  EmpNumber  Age  Gender EducationBackground  MaritalStatus EmpDepartment  \\\n",
       "0  E1001000   32       1                   3              1             5   \n",
       "1  E1001006   47       1                   3              1             5   \n",
       "2  E1001007   40       1                   5              2             5   \n",
       "3  E1001009   41       1                   0              0             2   \n",
       "4  E1001010   60       1                   3              1             5   \n",
       "\n",
       "  EmpJobRole  BusinessTravelFrequency  DistanceFromHome  EmpEducationLevel  \\\n",
       "0         18                        2                10                  3   \n",
       "1         18                        2                14                  4   \n",
       "2         18                        1                 5                  4   \n",
       "3         11                        2                10                  4   \n",
       "4         18                        2                16                  4   \n",
       "\n",
       "   EmpEnvironmentSatisfaction  EmpHourlyRate  EmpJobInvolvement  EmpJobLevel  \\\n",
       "0                           4             55                  3            2   \n",
       "1                           4             42                  3            2   \n",
       "2                           4             48                  2            3   \n",
       "3                           2             73                  2            5   \n",
       "4                           1             84                  3            2   \n",
       "\n",
       "   EmpJobSatisfaction  NumCompaniesWorked  OverTime  EmpLastSalaryHikePercent  \\\n",
       "0                   4                   1         1                        12   \n",
       "1                   1                   2         1                        12   \n",
       "2                   1                   5         0                        21   \n",
       "3                   4                   3         1                        15   \n",
       "4                   1                   8         1                        14   \n",
       "\n",
       "   EmpRelationshipSatisfaction  TotalWorkExperienceInYears  \\\n",
       "0                            4                          10   \n",
       "1                            4                          20   \n",
       "2                            3                          20   \n",
       "3                            2                          23   \n",
       "4                            4                          10   \n",
       "\n",
       "   TrainingTimesLastYear  EmpWorkLifeBalance  ExperienceYearsAtThisCompany  \\\n",
       "0                      2                   2                            10   \n",
       "1                      2                   3                             7   \n",
       "2                      2                   3                            18   \n",
       "3                      2                   2                            21   \n",
       "4                      1                   3                             2   \n",
       "\n",
       "   ExperienceYearsInCurrentRole  YearsSinceLastPromotion  \\\n",
       "0                             7                        0   \n",
       "1                             7                        1   \n",
       "2                            13                        1   \n",
       "3                             6                       12   \n",
       "4                             2                        2   \n",
       "\n",
       "   YearsWithCurrManager  Attrition  PerformanceRating  \n",
       "0                     8          1                  3  \n",
       "1                     7          1                  3  \n",
       "2                    12          1                  4  \n",
       "3                     6          1                  3  \n",
       "4                     2          1                  3  "
      ]
     },
     "execution_count": 29,
     "metadata": {},
     "output_type": "execute_result"
    }
   ],
   "source": [
    "# Check all data features \n",
    "data.head()"
   ]
  },
  {
   "cell_type": "markdown",
   "id": "531bf88f",
   "metadata": {},
   "source": [
    "### CHECK OUTLIERS AND IMPUTE OUTLIERS:"
   ]
  },
  {
   "cell_type": "markdown",
   "id": "d1e6d8f7",
   "metadata": {},
   "source": [
    "#### BoxPlot: Box plots are used to show distributions of numeric data values as well as it helps to detect the outliers."
   ]
  },
  {
   "cell_type": "code",
   "execution_count": 30,
   "id": "96ae00c9",
   "metadata": {},
   "outputs": [
    {
     "data": {
      "image/png": "[encoded data removed]",
      "text/plain": [
       "<Figure size 1440x1296 with 10 Axes>"
      ]
     },
     "metadata": {
      "needs_background": "light"
     },
     "output_type": "display_data"
    }
   ],
   "source": [
    "out = data[['Age','DistanceFromHome','EmpHourlyRate','EmpLastSalaryHikePercent',\n",
    "                   'TotalWorkExperienceInYears','TrainingTimesLastYear','ExperienceYearsAtThisCompany',\n",
    "                   'ExperienceYearsInCurrentRole','YearsSinceLastPromotion','YearsWithCurrManager']]\n",
    "\n",
    "plt.figure(figsize=(20,18)) # defining canvas size\n",
    "plotno = 1 # counter\n",
    "\n",
    "for column in out: # iteration of columns / acessing the columns from count \n",
    "    if plotno<=12:    # set the limit\n",
    "        plt.subplot(4,3,plotno) # # plotting 7 graphs (3-rows,3-columns) ,plotnumber is for count\n",
    "        sns.boxplot(out[column]) # Plotting box plots to detect the outlier\n",
    "        plt.xlabel(column,fontsize=20)  # assigning name to x-axis and font size is 20\n",
    "    plotno+=1 # counter increment\n",
    "plt.tight_layout()\n",
    "plt.show() # used to hide the storage loction"
   ]
  },
  {
   "cell_type": "markdown",
   "id": "03923218",
   "metadata": {},
   "source": [
    "* Here we are use inter quatile range to impute the outlier, becuase data is not normally distributed.\n",
    "#### IQR:\n",
    "\n",
    "* IQR stand for the interquatile range, When a data set has outliers or extreme values, we summarize a typical value using the median as opposed to the mean. which is the difference between the first and third quartiles"
   ]
  },
  {
   "cell_type": "markdown",
   "id": "db5a2399",
   "metadata": {},
   "source": [
    "### 1.Total Work Experiance in year"
   ]
  },
  {
   "cell_type": "code",
   "execution_count": 31,
   "id": "277fd8b2",
   "metadata": {},
   "outputs": [
    {
     "name": "stdout",
     "output_type": "stream",
     "text": [
      "IQR: 9.0\n",
      "Minimum limit: -7.5\n",
      "Maximum Limit: 28.5\n"
     ]
    }
   ],
   "source": [
    "# Use iqr range because some skewed in data\n",
    "iqr = stats.iqr(data['TotalWorkExperienceInYears'],interpolation='midpoint')\n",
    "print(\"IQR:\",iqr)\n",
    "\n",
    "# Getting first & third quantile\n",
    "Q1 = data['TotalWorkExperienceInYears'].quantile(0.25)\n",
    "Q3 = data['TotalWorkExperienceInYears'].quantile(0.75)\n",
    "\n",
    "# Get maximum and minimum limit\n",
    "min_limit = Q1 - 1.5*iqr\n",
    "print(\"Minimum limit:\",min_limit)\n",
    "\n",
    "max_limit = Q3 + 1.5*iqr\n",
    "print(\"Maximum Limit:\",max_limit)"
   ]
  },
  {
   "cell_type": "code",
   "execution_count": 32,
   "id": "20fb22ae",
   "metadata": {},
   "outputs": [],
   "source": [
    "# Impute outlier\n",
    "data.loc[data['TotalWorkExperienceInYears'] > max_limit,'TotalWorkExperienceInYears']=data['TotalWorkExperienceInYears'].median()"
   ]
  },
  {
   "cell_type": "code",
   "execution_count": 33,
   "id": "0bdcd9e4",
   "metadata": {},
   "outputs": [
    {
     "data": {
      "text/html": [
       "<div>\n",
       "<style scoped>\n",
       "    .dataframe tbody tr th:only-of-type {\n",
       "        vertical-align: middle;\n",
       "    }\n",
       "\n",
       "    .dataframe tbody tr th {\n",
       "        vertical-align: top;\n",
       "    }\n",
       "\n",
       "    .dataframe thead th {\n",
       "        text-align: right;\n",
       "    }\n",
       "</style>\n",
       "<table border=\"1\" class=\"dataframe\">\n",
       "  <thead>\n",
       "    <tr style=\"text-align: right;\">\n",
       "      <th></th>\n",
       "      <th>EmpNumber</th>\n",
       "      <th>Age</th>\n",
       "      <th>Gender</th>\n",
       "      <th>EducationBackground</th>\n",
       "      <th>MaritalStatus</th>\n",
       "      <th>EmpDepartment</th>\n",
       "      <th>EmpJobRole</th>\n",
       "      <th>BusinessTravelFrequency</th>\n",
       "      <th>DistanceFromHome</th>\n",
       "      <th>EmpEducationLevel</th>\n",
       "      <th>EmpEnvironmentSatisfaction</th>\n",
       "      <th>EmpHourlyRate</th>\n",
       "      <th>EmpJobInvolvement</th>\n",
       "      <th>EmpJobLevel</th>\n",
       "      <th>EmpJobSatisfaction</th>\n",
       "      <th>NumCompaniesWorked</th>\n",
       "      <th>OverTime</th>\n",
       "      <th>EmpLastSalaryHikePercent</th>\n",
       "      <th>EmpRelationshipSatisfaction</th>\n",
       "      <th>TotalWorkExperienceInYears</th>\n",
       "      <th>TrainingTimesLastYear</th>\n",
       "      <th>EmpWorkLifeBalance</th>\n",
       "      <th>ExperienceYearsAtThisCompany</th>\n",
       "      <th>ExperienceYearsInCurrentRole</th>\n",
       "      <th>YearsSinceLastPromotion</th>\n",
       "      <th>YearsWithCurrManager</th>\n",
       "      <th>Attrition</th>\n",
       "      <th>PerformanceRating</th>\n",
       "    </tr>\n",
       "  </thead>\n",
       "  <tbody>\n",
       "  </tbody>\n",
       "</table>\n",
       "</div>"
      ],
      "text/plain": [
       "Empty DataFrame\n",
       "Columns: [EmpNumber, Age, Gender, EducationBackground, MaritalStatus, EmpDepartment, EmpJobRole, BusinessTravelFrequency, DistanceFromHome, EmpEducationLevel, EmpEnvironmentSatisfaction, EmpHourlyRate, EmpJobInvolvement, EmpJobLevel, EmpJobSatisfaction, NumCompaniesWorked, OverTime, EmpLastSalaryHikePercent, EmpRelationshipSatisfaction, TotalWorkExperienceInYears, TrainingTimesLastYear, EmpWorkLifeBalance, ExperienceYearsAtThisCompany, ExperienceYearsInCurrentRole, YearsSinceLastPromotion, YearsWithCurrManager, Attrition, PerformanceRating]\n",
       "Index: []"
      ]
     },
     "execution_count": 33,
     "metadata": {},
     "output_type": "execute_result"
    }
   ],
   "source": [
    "# filtering data after imputation\n",
    "data.loc[data['TotalWorkExperienceInYears'] > max_limit]"
   ]
  },
  {
   "cell_type": "markdown",
   "id": "878e04bd",
   "metadata": {},
   "source": [
    "### 2.Training Times Last Year"
   ]
  },
  {
   "cell_type": "code",
   "execution_count": 34,
   "id": "e2a7aa9e",
   "metadata": {},
   "outputs": [
    {
     "name": "stdout",
     "output_type": "stream",
     "text": [
      "IQR: 1.0\n",
      "Minimum limit: 0.5\n",
      "Maximum Limit: 4.5\n"
     ]
    }
   ],
   "source": [
    "# Use iqr range because some skewed in data\n",
    "iqr = stats.iqr(data['TrainingTimesLastYear'],interpolation='midpoint')\n",
    "print(\"IQR:\",iqr)\n",
    "\n",
    "# Getting first & third quantile\n",
    "Q1 = data['TrainingTimesLastYear'].quantile(0.25)\n",
    "Q3 = data['TrainingTimesLastYear'].quantile(0.75)\n",
    "\n",
    "# Get maximum and minimum limit\n",
    "min_limit = Q1 - 1.5*iqr\n",
    "print(\"Minimum limit:\",min_limit)\n",
    "\n",
    "max_limit = Q3 + 1.5*iqr\n",
    "print(\"Maximum Limit:\",max_limit)"
   ]
  },
  {
   "cell_type": "code",
   "execution_count": 35,
   "id": "5fd70354",
   "metadata": {},
   "outputs": [],
   "source": [
    "# Impute outlier in max & minmum limit\n",
    "data.loc[data['TrainingTimesLastYear'] < min_limit,'TrainingTimesLastYear']=data['TrainingTimesLastYear'].median()\n",
    "data.loc[data['TrainingTimesLastYear'] > max_limit,'TrainingTimesLastYear']=data['TrainingTimesLastYear'].median()"
   ]
  },
  {
   "cell_type": "code",
   "execution_count": 36,
   "id": "8b929cec",
   "metadata": {},
   "outputs": [
    {
     "data": {
      "text/html": [
       "<div>\n",
       "<style scoped>\n",
       "    .dataframe tbody tr th:only-of-type {\n",
       "        vertical-align: middle;\n",
       "    }\n",
       "\n",
       "    .dataframe tbody tr th {\n",
       "        vertical-align: top;\n",
       "    }\n",
       "\n",
       "    .dataframe thead th {\n",
       "        text-align: right;\n",
       "    }\n",
       "</style>\n",
       "<table border=\"1\" class=\"dataframe\">\n",
       "  <thead>\n",
       "    <tr style=\"text-align: right;\">\n",
       "      <th></th>\n",
       "      <th>EmpNumber</th>\n",
       "      <th>Age</th>\n",
       "      <th>Gender</th>\n",
       "      <th>EducationBackground</th>\n",
       "      <th>MaritalStatus</th>\n",
       "      <th>EmpDepartment</th>\n",
       "      <th>EmpJobRole</th>\n",
       "      <th>BusinessTravelFrequency</th>\n",
       "      <th>DistanceFromHome</th>\n",
       "      <th>EmpEducationLevel</th>\n",
       "      <th>EmpEnvironmentSatisfaction</th>\n",
       "      <th>EmpHourlyRate</th>\n",
       "      <th>EmpJobInvolvement</th>\n",
       "      <th>EmpJobLevel</th>\n",
       "      <th>EmpJobSatisfaction</th>\n",
       "      <th>NumCompaniesWorked</th>\n",
       "      <th>OverTime</th>\n",
       "      <th>EmpLastSalaryHikePercent</th>\n",
       "      <th>EmpRelationshipSatisfaction</th>\n",
       "      <th>TotalWorkExperienceInYears</th>\n",
       "      <th>TrainingTimesLastYear</th>\n",
       "      <th>EmpWorkLifeBalance</th>\n",
       "      <th>ExperienceYearsAtThisCompany</th>\n",
       "      <th>ExperienceYearsInCurrentRole</th>\n",
       "      <th>YearsSinceLastPromotion</th>\n",
       "      <th>YearsWithCurrManager</th>\n",
       "      <th>Attrition</th>\n",
       "      <th>PerformanceRating</th>\n",
       "    </tr>\n",
       "  </thead>\n",
       "  <tbody>\n",
       "  </tbody>\n",
       "</table>\n",
       "</div>"
      ],
      "text/plain": [
       "Empty DataFrame\n",
       "Columns: [EmpNumber, Age, Gender, EducationBackground, MaritalStatus, EmpDepartment, EmpJobRole, BusinessTravelFrequency, DistanceFromHome, EmpEducationLevel, EmpEnvironmentSatisfaction, EmpHourlyRate, EmpJobInvolvement, EmpJobLevel, EmpJobSatisfaction, NumCompaniesWorked, OverTime, EmpLastSalaryHikePercent, EmpRelationshipSatisfaction, TotalWorkExperienceInYears, TrainingTimesLastYear, EmpWorkLifeBalance, ExperienceYearsAtThisCompany, ExperienceYearsInCurrentRole, YearsSinceLastPromotion, YearsWithCurrManager, Attrition, PerformanceRating]\n",
       "Index: []"
      ]
     },
     "execution_count": 36,
     "metadata": {},
     "output_type": "execute_result"
    }
   ],
   "source": [
    "# Filtering the min limit\n",
    "data.loc[data['TrainingTimesLastYear'] < min_limit]"
   ]
  },
  {
   "cell_type": "code",
   "execution_count": 37,
   "id": "57bede02",
   "metadata": {},
   "outputs": [
    {
     "data": {
      "text/html": [
       "<div>\n",
       "<style scoped>\n",
       "    .dataframe tbody tr th:only-of-type {\n",
       "        vertical-align: middle;\n",
       "    }\n",
       "\n",
       "    .dataframe tbody tr th {\n",
       "        vertical-align: top;\n",
       "    }\n",
       "\n",
       "    .dataframe thead th {\n",
       "        text-align: right;\n",
       "    }\n",
       "</style>\n",
       "<table border=\"1\" class=\"dataframe\">\n",
       "  <thead>\n",
       "    <tr style=\"text-align: right;\">\n",
       "      <th></th>\n",
       "      <th>EmpNumber</th>\n",
       "      <th>Age</th>\n",
       "      <th>Gender</th>\n",
       "      <th>EducationBackground</th>\n",
       "      <th>MaritalStatus</th>\n",
       "      <th>EmpDepartment</th>\n",
       "      <th>EmpJobRole</th>\n",
       "      <th>BusinessTravelFrequency</th>\n",
       "      <th>DistanceFromHome</th>\n",
       "      <th>EmpEducationLevel</th>\n",
       "      <th>EmpEnvironmentSatisfaction</th>\n",
       "      <th>EmpHourlyRate</th>\n",
       "      <th>EmpJobInvolvement</th>\n",
       "      <th>EmpJobLevel</th>\n",
       "      <th>EmpJobSatisfaction</th>\n",
       "      <th>NumCompaniesWorked</th>\n",
       "      <th>OverTime</th>\n",
       "      <th>EmpLastSalaryHikePercent</th>\n",
       "      <th>EmpRelationshipSatisfaction</th>\n",
       "      <th>TotalWorkExperienceInYears</th>\n",
       "      <th>TrainingTimesLastYear</th>\n",
       "      <th>EmpWorkLifeBalance</th>\n",
       "      <th>ExperienceYearsAtThisCompany</th>\n",
       "      <th>ExperienceYearsInCurrentRole</th>\n",
       "      <th>YearsSinceLastPromotion</th>\n",
       "      <th>YearsWithCurrManager</th>\n",
       "      <th>Attrition</th>\n",
       "      <th>PerformanceRating</th>\n",
       "    </tr>\n",
       "  </thead>\n",
       "  <tbody>\n",
       "  </tbody>\n",
       "</table>\n",
       "</div>"
      ],
      "text/plain": [
       "Empty DataFrame\n",
       "Columns: [EmpNumber, Age, Gender, EducationBackground, MaritalStatus, EmpDepartment, EmpJobRole, BusinessTravelFrequency, DistanceFromHome, EmpEducationLevel, EmpEnvironmentSatisfaction, EmpHourlyRate, EmpJobInvolvement, EmpJobLevel, EmpJobSatisfaction, NumCompaniesWorked, OverTime, EmpLastSalaryHikePercent, EmpRelationshipSatisfaction, TotalWorkExperienceInYears, TrainingTimesLastYear, EmpWorkLifeBalance, ExperienceYearsAtThisCompany, ExperienceYearsInCurrentRole, YearsSinceLastPromotion, YearsWithCurrManager, Attrition, PerformanceRating]\n",
       "Index: []"
      ]
     },
     "execution_count": 37,
     "metadata": {},
     "output_type": "execute_result"
    }
   ],
   "source": [
    "# Filtering the max limit\n",
    "data.loc[data['TrainingTimesLastYear'] > max_limit]"
   ]
  },
  {
   "cell_type": "markdown",
   "id": "89c3448e",
   "metadata": {},
   "source": [
    "### 3.Experience Years At This Company"
   ]
  },
  {
   "cell_type": "code",
   "execution_count": 38,
   "id": "40e8142c",
   "metadata": {},
   "outputs": [
    {
     "name": "stdout",
     "output_type": "stream",
     "text": [
      "IQR: 7.0\n",
      "Minimum limit: -7.5\n",
      "Maximum Limit: 20.5\n"
     ]
    }
   ],
   "source": [
    "# Use iqr range because some skewed in data\n",
    "iqr = stats.iqr(data['ExperienceYearsAtThisCompany'],interpolation='midpoint')\n",
    "print(\"IQR:\",iqr)\n",
    "\n",
    "# Getting first & third quantile\n",
    "Q1 = data['ExperienceYearsAtThisCompany'].quantile(0.25)\n",
    "Q3 = data['ExperienceYearsAtThisCompany'].quantile(0.75)\n",
    "\n",
    "# Get maximum and minimum limit\n",
    "min_limit = Q1 - 1.5*iqr\n",
    "print(\"Minimum limit:\",min_limit)\n",
    "\n",
    "max_limit = Q3 + 1.5*iqr\n",
    "print(\"Maximum Limit:\",max_limit)"
   ]
  },
  {
   "cell_type": "code",
   "execution_count": 39,
   "id": "e07f4198",
   "metadata": {},
   "outputs": [],
   "source": [
    "# Impute outlier\n",
    "data.loc[data['ExperienceYearsAtThisCompany'] > max_limit,'ExperienceYearsAtThisCompany']=data['ExperienceYearsAtThisCompany'].median()"
   ]
  },
  {
   "cell_type": "code",
   "execution_count": 40,
   "id": "8897fb3e",
   "metadata": {},
   "outputs": [
    {
     "data": {
      "text/html": [
       "<div>\n",
       "<style scoped>\n",
       "    .dataframe tbody tr th:only-of-type {\n",
       "        vertical-align: middle;\n",
       "    }\n",
       "\n",
       "    .dataframe tbody tr th {\n",
       "        vertical-align: top;\n",
       "    }\n",
       "\n",
       "    .dataframe thead th {\n",
       "        text-align: right;\n",
       "    }\n",
       "</style>\n",
       "<table border=\"1\" class=\"dataframe\">\n",
       "  <thead>\n",
       "    <tr style=\"text-align: right;\">\n",
       "      <th></th>\n",
       "      <th>EmpNumber</th>\n",
       "      <th>Age</th>\n",
       "      <th>Gender</th>\n",
       "      <th>EducationBackground</th>\n",
       "      <th>MaritalStatus</th>\n",
       "      <th>EmpDepartment</th>\n",
       "      <th>EmpJobRole</th>\n",
       "      <th>BusinessTravelFrequency</th>\n",
       "      <th>DistanceFromHome</th>\n",
       "      <th>EmpEducationLevel</th>\n",
       "      <th>EmpEnvironmentSatisfaction</th>\n",
       "      <th>EmpHourlyRate</th>\n",
       "      <th>EmpJobInvolvement</th>\n",
       "      <th>EmpJobLevel</th>\n",
       "      <th>EmpJobSatisfaction</th>\n",
       "      <th>NumCompaniesWorked</th>\n",
       "      <th>OverTime</th>\n",
       "      <th>EmpLastSalaryHikePercent</th>\n",
       "      <th>EmpRelationshipSatisfaction</th>\n",
       "      <th>TotalWorkExperienceInYears</th>\n",
       "      <th>TrainingTimesLastYear</th>\n",
       "      <th>EmpWorkLifeBalance</th>\n",
       "      <th>ExperienceYearsAtThisCompany</th>\n",
       "      <th>ExperienceYearsInCurrentRole</th>\n",
       "      <th>YearsSinceLastPromotion</th>\n",
       "      <th>YearsWithCurrManager</th>\n",
       "      <th>Attrition</th>\n",
       "      <th>PerformanceRating</th>\n",
       "    </tr>\n",
       "  </thead>\n",
       "  <tbody>\n",
       "  </tbody>\n",
       "</table>\n",
       "</div>"
      ],
      "text/plain": [
       "Empty DataFrame\n",
       "Columns: [EmpNumber, Age, Gender, EducationBackground, MaritalStatus, EmpDepartment, EmpJobRole, BusinessTravelFrequency, DistanceFromHome, EmpEducationLevel, EmpEnvironmentSatisfaction, EmpHourlyRate, EmpJobInvolvement, EmpJobLevel, EmpJobSatisfaction, NumCompaniesWorked, OverTime, EmpLastSalaryHikePercent, EmpRelationshipSatisfaction, TotalWorkExperienceInYears, TrainingTimesLastYear, EmpWorkLifeBalance, ExperienceYearsAtThisCompany, ExperienceYearsInCurrentRole, YearsSinceLastPromotion, YearsWithCurrManager, Attrition, PerformanceRating]\n",
       "Index: []"
      ]
     },
     "execution_count": 40,
     "metadata": {},
     "output_type": "execute_result"
    }
   ],
   "source": [
    "# Filtering the data\n",
    "data.loc[data['ExperienceYearsAtThisCompany'] > max_limit]"
   ]
  },
  {
   "cell_type": "markdown",
   "id": "08cbbe5c",
   "metadata": {},
   "source": [
    "### 4.Experience Years In Current Role"
   ]
  },
  {
   "cell_type": "code",
   "execution_count": 41,
   "id": "e1908e61",
   "metadata": {},
   "outputs": [
    {
     "name": "stdout",
     "output_type": "stream",
     "text": [
      "IQR: 5.0\n",
      "Minimum limit: -5.5\n",
      "Maximum Limit: 14.5\n"
     ]
    }
   ],
   "source": [
    "# Use iqr range because some skewed in data\n",
    "iqr = stats.iqr(data['ExperienceYearsInCurrentRole'],interpolation='midpoint')\n",
    "print(\"IQR:\",iqr)\n",
    "\n",
    "# Getting first & third quantile\n",
    "Q1 = data['ExperienceYearsInCurrentRole'].quantile(0.25)\n",
    "Q3 = data['ExperienceYearsInCurrentRole'].quantile(0.75)\n",
    "\n",
    "# Get maximum and minimum limit\n",
    "min_limit = Q1 - 1.5*iqr\n",
    "print(\"Minimum limit:\",min_limit)\n",
    "\n",
    "max_limit = Q3 + 1.5*iqr\n",
    "print(\"Maximum Limit:\",max_limit)"
   ]
  },
  {
   "cell_type": "code",
   "execution_count": 42,
   "id": "9ba97252",
   "metadata": {},
   "outputs": [],
   "source": [
    "# Impute the outlier\n",
    "data.loc[data['ExperienceYearsInCurrentRole'] > max_limit,'ExperienceYearsInCurrentRole'] = data['ExperienceYearsInCurrentRole'].median()"
   ]
  },
  {
   "cell_type": "code",
   "execution_count": 43,
   "id": "5486d578",
   "metadata": {},
   "outputs": [
    {
     "data": {
      "text/html": [
       "<div>\n",
       "<style scoped>\n",
       "    .dataframe tbody tr th:only-of-type {\n",
       "        vertical-align: middle;\n",
       "    }\n",
       "\n",
       "    .dataframe tbody tr th {\n",
       "        vertical-align: top;\n",
       "    }\n",
       "\n",
       "    .dataframe thead th {\n",
       "        text-align: right;\n",
       "    }\n",
       "</style>\n",
       "<table border=\"1\" class=\"dataframe\">\n",
       "  <thead>\n",
       "    <tr style=\"text-align: right;\">\n",
       "      <th></th>\n",
       "      <th>EmpNumber</th>\n",
       "      <th>Age</th>\n",
       "      <th>Gender</th>\n",
       "      <th>EducationBackground</th>\n",
       "      <th>MaritalStatus</th>\n",
       "      <th>EmpDepartment</th>\n",
       "      <th>EmpJobRole</th>\n",
       "      <th>BusinessTravelFrequency</th>\n",
       "      <th>DistanceFromHome</th>\n",
       "      <th>EmpEducationLevel</th>\n",
       "      <th>EmpEnvironmentSatisfaction</th>\n",
       "      <th>EmpHourlyRate</th>\n",
       "      <th>EmpJobInvolvement</th>\n",
       "      <th>EmpJobLevel</th>\n",
       "      <th>EmpJobSatisfaction</th>\n",
       "      <th>NumCompaniesWorked</th>\n",
       "      <th>OverTime</th>\n",
       "      <th>EmpLastSalaryHikePercent</th>\n",
       "      <th>EmpRelationshipSatisfaction</th>\n",
       "      <th>TotalWorkExperienceInYears</th>\n",
       "      <th>TrainingTimesLastYear</th>\n",
       "      <th>EmpWorkLifeBalance</th>\n",
       "      <th>ExperienceYearsAtThisCompany</th>\n",
       "      <th>ExperienceYearsInCurrentRole</th>\n",
       "      <th>YearsSinceLastPromotion</th>\n",
       "      <th>YearsWithCurrManager</th>\n",
       "      <th>Attrition</th>\n",
       "      <th>PerformanceRating</th>\n",
       "    </tr>\n",
       "  </thead>\n",
       "  <tbody>\n",
       "  </tbody>\n",
       "</table>\n",
       "</div>"
      ],
      "text/plain": [
       "Empty DataFrame\n",
       "Columns: [EmpNumber, Age, Gender, EducationBackground, MaritalStatus, EmpDepartment, EmpJobRole, BusinessTravelFrequency, DistanceFromHome, EmpEducationLevel, EmpEnvironmentSatisfaction, EmpHourlyRate, EmpJobInvolvement, EmpJobLevel, EmpJobSatisfaction, NumCompaniesWorked, OverTime, EmpLastSalaryHikePercent, EmpRelationshipSatisfaction, TotalWorkExperienceInYears, TrainingTimesLastYear, EmpWorkLifeBalance, ExperienceYearsAtThisCompany, ExperienceYearsInCurrentRole, YearsSinceLastPromotion, YearsWithCurrManager, Attrition, PerformanceRating]\n",
       "Index: []"
      ]
     },
     "execution_count": 43,
     "metadata": {},
     "output_type": "execute_result"
    }
   ],
   "source": [
    "# Filtering the data\n",
    "data.loc[data['ExperienceYearsInCurrentRole'] > max_limit]"
   ]
  },
  {
   "cell_type": "markdown",
   "id": "8e90a39a",
   "metadata": {},
   "source": [
    "### 5.Years Since Last Promotion"
   ]
  },
  {
   "cell_type": "code",
   "execution_count": 44,
   "id": "75dae03f",
   "metadata": {},
   "outputs": [
    {
     "name": "stdout",
     "output_type": "stream",
     "text": [
      "IQR: 3.0\n",
      "Minimum limit: -4.5\n",
      "Maximum limit 7.5\n"
     ]
    }
   ],
   "source": [
    "# use iqr because some skewed in data\n",
    "iqr = stats.iqr(data['YearsSinceLastPromotion'],interpolation='midpoint')\n",
    "print(\"IQR:\",iqr)\n",
    "\n",
    "# Get first and third quantile\n",
    "Q1 = data['YearsSinceLastPromotion'].quantile(0.25)\n",
    "Q3 = data['YearsSinceLastPromotion'].quantile(0.75)\n",
    "\n",
    "# Get manimum and maximum limit\n",
    "min_limit = Q1 - 1.5*iqr\n",
    "print(\"Minimum limit:\",min_limit)\n",
    "\n",
    "max_limit = Q3 +1.5*iqr\n",
    "print(\"Maximum limit\",max_limit)"
   ]
  },
  {
   "cell_type": "code",
   "execution_count": 45,
   "id": "79ad013e",
   "metadata": {},
   "outputs": [],
   "source": [
    "# impute outlier\n",
    "data.loc[data['YearsSinceLastPromotion'] > max_limit,'YearsSinceLastPromotion']=data['YearsSinceLastPromotion'].median()"
   ]
  },
  {
   "cell_type": "code",
   "execution_count": 46,
   "id": "d57ef2cf",
   "metadata": {},
   "outputs": [
    {
     "data": {
      "text/html": [
       "<div>\n",
       "<style scoped>\n",
       "    .dataframe tbody tr th:only-of-type {\n",
       "        vertical-align: middle;\n",
       "    }\n",
       "\n",
       "    .dataframe tbody tr th {\n",
       "        vertical-align: top;\n",
       "    }\n",
       "\n",
       "    .dataframe thead th {\n",
       "        text-align: right;\n",
       "    }\n",
       "</style>\n",
       "<table border=\"1\" class=\"dataframe\">\n",
       "  <thead>\n",
       "    <tr style=\"text-align: right;\">\n",
       "      <th></th>\n",
       "      <th>EmpNumber</th>\n",
       "      <th>Age</th>\n",
       "      <th>Gender</th>\n",
       "      <th>EducationBackground</th>\n",
       "      <th>MaritalStatus</th>\n",
       "      <th>EmpDepartment</th>\n",
       "      <th>EmpJobRole</th>\n",
       "      <th>BusinessTravelFrequency</th>\n",
       "      <th>DistanceFromHome</th>\n",
       "      <th>EmpEducationLevel</th>\n",
       "      <th>EmpEnvironmentSatisfaction</th>\n",
       "      <th>EmpHourlyRate</th>\n",
       "      <th>EmpJobInvolvement</th>\n",
       "      <th>EmpJobLevel</th>\n",
       "      <th>EmpJobSatisfaction</th>\n",
       "      <th>NumCompaniesWorked</th>\n",
       "      <th>OverTime</th>\n",
       "      <th>EmpLastSalaryHikePercent</th>\n",
       "      <th>EmpRelationshipSatisfaction</th>\n",
       "      <th>TotalWorkExperienceInYears</th>\n",
       "      <th>TrainingTimesLastYear</th>\n",
       "      <th>EmpWorkLifeBalance</th>\n",
       "      <th>ExperienceYearsAtThisCompany</th>\n",
       "      <th>ExperienceYearsInCurrentRole</th>\n",
       "      <th>YearsSinceLastPromotion</th>\n",
       "      <th>YearsWithCurrManager</th>\n",
       "      <th>Attrition</th>\n",
       "      <th>PerformanceRating</th>\n",
       "    </tr>\n",
       "  </thead>\n",
       "  <tbody>\n",
       "  </tbody>\n",
       "</table>\n",
       "</div>"
      ],
      "text/plain": [
       "Empty DataFrame\n",
       "Columns: [EmpNumber, Age, Gender, EducationBackground, MaritalStatus, EmpDepartment, EmpJobRole, BusinessTravelFrequency, DistanceFromHome, EmpEducationLevel, EmpEnvironmentSatisfaction, EmpHourlyRate, EmpJobInvolvement, EmpJobLevel, EmpJobSatisfaction, NumCompaniesWorked, OverTime, EmpLastSalaryHikePercent, EmpRelationshipSatisfaction, TotalWorkExperienceInYears, TrainingTimesLastYear, EmpWorkLifeBalance, ExperienceYearsAtThisCompany, ExperienceYearsInCurrentRole, YearsSinceLastPromotion, YearsWithCurrManager, Attrition, PerformanceRating]\n",
       "Index: []"
      ]
     },
     "execution_count": 46,
     "metadata": {},
     "output_type": "execute_result"
    }
   ],
   "source": [
    "# Filtering data\n",
    "data.loc[data['YearsSinceLastPromotion'] > max_limit]"
   ]
  },
  {
   "cell_type": "markdown",
   "id": "1b31a8d7",
   "metadata": {},
   "source": [
    "### 6.Years With Current Manager"
   ]
  },
  {
   "cell_type": "code",
   "execution_count": 47,
   "id": "bcab6c3e",
   "metadata": {},
   "outputs": [
    {
     "name": "stdout",
     "output_type": "stream",
     "text": [
      "IQR: 5.0\n",
      "Minimum limit: -5.5\n",
      "Maximum limit 14.5\n"
     ]
    }
   ],
   "source": [
    "# use iqr because some skewed in data\n",
    "iqr = stats.iqr(data['YearsWithCurrManager'],interpolation='midpoint')\n",
    "print(\"IQR:\",iqr)\n",
    "\n",
    "# Get first and third quantile\n",
    "Q1 = data['YearsWithCurrManager'].quantile(0.25)\n",
    "Q3 = data['YearsWithCurrManager'].quantile(0.75)\n",
    "\n",
    "# Get manimum and maximum limit\n",
    "min_limit = Q1 - 1.5*iqr\n",
    "print(\"Minimum limit:\",min_limit)\n",
    "\n",
    "max_limit = Q3 +1.5*iqr\n",
    "print(\"Maximum limit\",max_limit)"
   ]
  },
  {
   "cell_type": "code",
   "execution_count": 48,
   "id": "70f7e771",
   "metadata": {},
   "outputs": [],
   "source": [
    "# impute outlier\n",
    "data.loc[data['YearsWithCurrManager'] > max_limit,'YearsWithCurrManager']=data['YearsWithCurrManager'].median()"
   ]
  },
  {
   "cell_type": "code",
   "execution_count": 49,
   "id": "3a034372",
   "metadata": {},
   "outputs": [
    {
     "data": {
      "text/html": [
       "<div>\n",
       "<style scoped>\n",
       "    .dataframe tbody tr th:only-of-type {\n",
       "        vertical-align: middle;\n",
       "    }\n",
       "\n",
       "    .dataframe tbody tr th {\n",
       "        vertical-align: top;\n",
       "    }\n",
       "\n",
       "    .dataframe thead th {\n",
       "        text-align: right;\n",
       "    }\n",
       "</style>\n",
       "<table border=\"1\" class=\"dataframe\">\n",
       "  <thead>\n",
       "    <tr style=\"text-align: right;\">\n",
       "      <th></th>\n",
       "      <th>EmpNumber</th>\n",
       "      <th>Age</th>\n",
       "      <th>Gender</th>\n",
       "      <th>EducationBackground</th>\n",
       "      <th>MaritalStatus</th>\n",
       "      <th>EmpDepartment</th>\n",
       "      <th>EmpJobRole</th>\n",
       "      <th>BusinessTravelFrequency</th>\n",
       "      <th>DistanceFromHome</th>\n",
       "      <th>EmpEducationLevel</th>\n",
       "      <th>EmpEnvironmentSatisfaction</th>\n",
       "      <th>EmpHourlyRate</th>\n",
       "      <th>EmpJobInvolvement</th>\n",
       "      <th>EmpJobLevel</th>\n",
       "      <th>EmpJobSatisfaction</th>\n",
       "      <th>NumCompaniesWorked</th>\n",
       "      <th>OverTime</th>\n",
       "      <th>EmpLastSalaryHikePercent</th>\n",
       "      <th>EmpRelationshipSatisfaction</th>\n",
       "      <th>TotalWorkExperienceInYears</th>\n",
       "      <th>TrainingTimesLastYear</th>\n",
       "      <th>EmpWorkLifeBalance</th>\n",
       "      <th>ExperienceYearsAtThisCompany</th>\n",
       "      <th>ExperienceYearsInCurrentRole</th>\n",
       "      <th>YearsSinceLastPromotion</th>\n",
       "      <th>YearsWithCurrManager</th>\n",
       "      <th>Attrition</th>\n",
       "      <th>PerformanceRating</th>\n",
       "    </tr>\n",
       "  </thead>\n",
       "  <tbody>\n",
       "  </tbody>\n",
       "</table>\n",
       "</div>"
      ],
      "text/plain": [
       "Empty DataFrame\n",
       "Columns: [EmpNumber, Age, Gender, EducationBackground, MaritalStatus, EmpDepartment, EmpJobRole, BusinessTravelFrequency, DistanceFromHome, EmpEducationLevel, EmpEnvironmentSatisfaction, EmpHourlyRate, EmpJobInvolvement, EmpJobLevel, EmpJobSatisfaction, NumCompaniesWorked, OverTime, EmpLastSalaryHikePercent, EmpRelationshipSatisfaction, TotalWorkExperienceInYears, TrainingTimesLastYear, EmpWorkLifeBalance, ExperienceYearsAtThisCompany, ExperienceYearsInCurrentRole, YearsSinceLastPromotion, YearsWithCurrManager, Attrition, PerformanceRating]\n",
       "Index: []"
      ]
     },
     "execution_count": 49,
     "metadata": {},
     "output_type": "execute_result"
    }
   ],
   "source": [
    "# Filtering the data\n",
    "data.loc[data['YearsWithCurrManager'] >max_limit]"
   ]
  },
  {
   "cell_type": "markdown",
   "id": "00717e1f",
   "metadata": {},
   "source": [
    "### CHECKING OUTLIER AFTER IMPUTATION"
   ]
  },
  {
   "cell_type": "code",
   "execution_count": 50,
   "id": "7a0f4fe0",
   "metadata": {},
   "outputs": [
    {
     "data": {
      "image/png": "[encoded data removed]",
      "text/plain": [
       "<Figure size 1440x720 with 6 Axes>"
      ]
     },
     "metadata": {
      "needs_background": "light"
     },
     "output_type": "display_data"
    }
   ],
   "source": [
    "out = data[['TotalWorkExperienceInYears','TrainingTimesLastYear','ExperienceYearsAtThisCompany',\n",
    "            'ExperienceYearsInCurrentRole','YearsSinceLastPromotion','YearsWithCurrManager']]\n",
    "\n",
    "plt.figure(figsize=(20,10)) # defining canvas size\n",
    "plotno = 1 # counter\n",
    "\n",
    "for column in out: # iteration of columns / acessing the columns from count \n",
    "    if plotno<=7:    # set the limit\n",
    "        plt.subplot(2,3,plotno) # # plotting 7 graphs (3-rows,3-columns) ,plotnumber is for count\n",
    "        sns.boxplot(out[column]) # Plotting box plots to detect the outlier\n",
    "        plt.xlabel(column,fontsize=20)  # assigning name to x-axis and font size is 20\n",
    "    plotno+=1 # counter increment\n",
    "plt.tight_layout()\n",
    "plt.show() # used to hide the storage loction"
   ]
  },
  {
   "cell_type": "markdown",
   "id": "ec4a33d5",
   "metadata": {},
   "source": [
    "###  Observation:\n",
    "\n",
    "* Outlier impute sucessfully, but some feature box plot showing outlier, so we can not impute this outlier."
   ]
  },
  {
   "cell_type": "markdown",
   "id": "c628ff85",
   "metadata": {},
   "source": [
    "### FEATURE TRANSFORMATION"
   ]
  },
  {
   "cell_type": "markdown",
   "id": "cd97bb62",
   "metadata": {},
   "source": [
    "* From the last EDA file we get the yearsince last promotion feature have some skewed in data, so we are going to use square root transformation.\n",
    "#### Q-Q Plot: Q–Q plot is a probability plot, a graphical method for comparing two probability distributions by plotting their quantiles against each other."
   ]
  },
  {
   "cell_type": "code",
   "execution_count": 51,
   "id": "e6e0efcb",
   "metadata": {},
   "outputs": [],
   "source": [
    "# define a function to plot a Q-Q plot\n",
    "def plot_data(data,feature):\n",
    "    plt.figure(figsize=(10,5))\n",
    "    plt.subplot(1,2,1)\n",
    "    data[feature].hist()\n",
    "    plt.subplot(1,2,2)\n",
    "    stats.probplot(data[feature],dist='norm',plot=pylab)\n",
    "    plt.show()"
   ]
  },
  {
   "cell_type": "code",
   "execution_count": 52,
   "id": "9611b76f",
   "metadata": {},
   "outputs": [
    {
     "data": {
      "image/png": "[encoded data removed]",
      "text/plain": [
       "<Figure size 720x360 with 2 Axes>"
      ]
     },
     "metadata": {
      "needs_background": "light"
     },
     "output_type": "display_data"
    }
   ],
   "source": [
    "plot_data(data,'YearsSinceLastPromotion')"
   ]
  },
  {
   "cell_type": "markdown",
   "id": "9825677b",
   "metadata": {},
   "source": [
    "### SQUARE ROOT TRANSFORMATION"
   ]
  },
  {
   "cell_type": "code",
   "execution_count": 53,
   "id": "cb1c6f49",
   "metadata": {},
   "outputs": [],
   "source": [
    "data['square_YearsSinceLastPromotion'] = data.YearsSinceLastPromotion**(1/2)"
   ]
  },
  {
   "cell_type": "code",
   "execution_count": 54,
   "id": "ede4937f",
   "metadata": {},
   "outputs": [
    {
     "data": {
      "image/png": "[encoded data removed]",
      "text/plain": [
       "<Figure size 720x360 with 2 Axes>"
      ]
     },
     "metadata": {
      "needs_background": "light"
     },
     "output_type": "display_data"
    }
   ],
   "source": [
    "plot_data(data,'square_YearsSinceLastPromotion')"
   ]
  },
  {
   "cell_type": "markdown",
   "id": "ed0af341",
   "metadata": {},
   "source": [
    "* Now some points are close to the line."
   ]
  },
  {
   "cell_type": "markdown",
   "id": "8b0e886e",
   "metadata": {},
   "source": [
    "### SCALING THE DATA\n",
    "#### Standard Scaling: Standardization is the process of scaling the feature, it assumes the feature follow normal distribution and scale the feature between mean and standard deviation, here mean is 0 and standard deviation is always 1."
   ]
  },
  {
   "cell_type": "code",
   "execution_count": 55,
   "id": "d56d7c0d",
   "metadata": {},
   "outputs": [],
   "source": [
    "from sklearn.preprocessing import StandardScaler\n",
    "\n",
    "scalar = StandardScaler()  #Create Object\n",
    "\n",
    "data[['Age','DistanceFromHome','EmpHourlyRate','EmpLastSalaryHikePercent','TotalWorkExperienceInYears',\n",
    "      'TrainingTimesLastYear','ExperienceYearsAtThisCompany','ExperienceYearsInCurrentRole','YearsWithCurrManager',\n",
    "      'square_YearsSinceLastPromotion']]=scalar.fit_transform(data[['Age','DistanceFromHome','EmpHourlyRate',\n",
    "      'EmpLastSalaryHikePercent','TotalWorkExperienceInYears','TrainingTimesLastYear','ExperienceYearsAtThisCompany',\n",
    "      'ExperienceYearsInCurrentRole','YearsWithCurrManager','square_YearsSinceLastPromotion']])"
   ]
  },
  {
   "cell_type": "code",
   "execution_count": 56,
   "id": "daa6e0df",
   "metadata": {},
   "outputs": [
    {
     "data": {
      "text/html": [
       "<div>\n",
       "<style scoped>\n",
       "    .dataframe tbody tr th:only-of-type {\n",
       "        vertical-align: middle;\n",
       "    }\n",
       "\n",
       "    .dataframe tbody tr th {\n",
       "        vertical-align: top;\n",
       "    }\n",
       "\n",
       "    .dataframe thead th {\n",
       "        text-align: right;\n",
       "    }\n",
       "</style>\n",
       "<table border=\"1\" class=\"dataframe\">\n",
       "  <thead>\n",
       "    <tr style=\"text-align: right;\">\n",
       "      <th></th>\n",
       "      <th>EmpNumber</th>\n",
       "      <th>Age</th>\n",
       "      <th>Gender</th>\n",
       "      <th>EducationBackground</th>\n",
       "      <th>MaritalStatus</th>\n",
       "      <th>EmpDepartment</th>\n",
       "      <th>EmpJobRole</th>\n",
       "      <th>BusinessTravelFrequency</th>\n",
       "      <th>DistanceFromHome</th>\n",
       "      <th>EmpEducationLevel</th>\n",
       "      <th>EmpEnvironmentSatisfaction</th>\n",
       "      <th>EmpHourlyRate</th>\n",
       "      <th>EmpJobInvolvement</th>\n",
       "      <th>EmpJobLevel</th>\n",
       "      <th>EmpJobSatisfaction</th>\n",
       "      <th>NumCompaniesWorked</th>\n",
       "      <th>OverTime</th>\n",
       "      <th>EmpLastSalaryHikePercent</th>\n",
       "      <th>EmpRelationshipSatisfaction</th>\n",
       "      <th>TotalWorkExperienceInYears</th>\n",
       "      <th>TrainingTimesLastYear</th>\n",
       "      <th>EmpWorkLifeBalance</th>\n",
       "      <th>ExperienceYearsAtThisCompany</th>\n",
       "      <th>ExperienceYearsInCurrentRole</th>\n",
       "      <th>YearsSinceLastPromotion</th>\n",
       "      <th>YearsWithCurrManager</th>\n",
       "      <th>Attrition</th>\n",
       "      <th>PerformanceRating</th>\n",
       "      <th>square_YearsSinceLastPromotion</th>\n",
       "    </tr>\n",
       "  </thead>\n",
       "  <tbody>\n",
       "    <tr>\n",
       "      <th>0</th>\n",
       "      <td>E1001000</td>\n",
       "      <td>-0.541458</td>\n",
       "      <td>1</td>\n",
       "      <td>3</td>\n",
       "      <td>1</td>\n",
       "      <td>5</td>\n",
       "      <td>18</td>\n",
       "      <td>2</td>\n",
       "      <td>0.102061</td>\n",
       "      <td>3</td>\n",
       "      <td>4</td>\n",
       "      <td>-0.543569</td>\n",
       "      <td>3</td>\n",
       "      <td>2</td>\n",
       "      <td>4</td>\n",
       "      <td>1</td>\n",
       "      <td>1</td>\n",
       "      <td>-0.889111</td>\n",
       "      <td>4</td>\n",
       "      <td>-0.058535</td>\n",
       "      <td>-0.879579</td>\n",
       "      <td>2</td>\n",
       "      <td>0.868276</td>\n",
       "      <td>0.864098</td>\n",
       "      <td>0</td>\n",
       "      <td>1.202103</td>\n",
       "      <td>1</td>\n",
       "      <td>3</td>\n",
       "      <td>-1.057559</td>\n",
       "    </tr>\n",
       "    <tr>\n",
       "      <th>1</th>\n",
       "      <td>E1001006</td>\n",
       "      <td>1.109888</td>\n",
       "      <td>1</td>\n",
       "      <td>3</td>\n",
       "      <td>1</td>\n",
       "      <td>5</td>\n",
       "      <td>18</td>\n",
       "      <td>2</td>\n",
       "      <td>0.591464</td>\n",
       "      <td>4</td>\n",
       "      <td>4</td>\n",
       "      <td>-1.187042</td>\n",
       "      <td>3</td>\n",
       "      <td>2</td>\n",
       "      <td>1</td>\n",
       "      <td>2</td>\n",
       "      <td>1</td>\n",
       "      <td>-0.889111</td>\n",
       "      <td>4</td>\n",
       "      <td>1.512870</td>\n",
       "      <td>-0.879579</td>\n",
       "      <td>3</td>\n",
       "      <td>0.200371</td>\n",
       "      <td>0.864098</td>\n",
       "      <td>1</td>\n",
       "      <td>0.902825</td>\n",
       "      <td>1</td>\n",
       "      <td>3</td>\n",
       "      <td>0.151501</td>\n",
       "    </tr>\n",
       "    <tr>\n",
       "      <th>2</th>\n",
       "      <td>E1001007</td>\n",
       "      <td>0.339260</td>\n",
       "      <td>1</td>\n",
       "      <td>5</td>\n",
       "      <td>2</td>\n",
       "      <td>5</td>\n",
       "      <td>18</td>\n",
       "      <td>1</td>\n",
       "      <td>-0.509693</td>\n",
       "      <td>4</td>\n",
       "      <td>4</td>\n",
       "      <td>-0.890055</td>\n",
       "      <td>2</td>\n",
       "      <td>3</td>\n",
       "      <td>1</td>\n",
       "      <td>5</td>\n",
       "      <td>0</td>\n",
       "      <td>1.594054</td>\n",
       "      <td>3</td>\n",
       "      <td>1.512870</td>\n",
       "      <td>-0.879579</td>\n",
       "      <td>3</td>\n",
       "      <td>2.649355</td>\n",
       "      <td>2.661702</td>\n",
       "      <td>1</td>\n",
       "      <td>2.399219</td>\n",
       "      <td>1</td>\n",
       "      <td>4</td>\n",
       "      <td>0.151501</td>\n",
       "    </tr>\n",
       "    <tr>\n",
       "      <th>3</th>\n",
       "      <td>E1001009</td>\n",
       "      <td>0.449349</td>\n",
       "      <td>1</td>\n",
       "      <td>0</td>\n",
       "      <td>0</td>\n",
       "      <td>2</td>\n",
       "      <td>11</td>\n",
       "      <td>2</td>\n",
       "      <td>0.102061</td>\n",
       "      <td>4</td>\n",
       "      <td>2</td>\n",
       "      <td>0.347393</td>\n",
       "      <td>2</td>\n",
       "      <td>5</td>\n",
       "      <td>4</td>\n",
       "      <td>3</td>\n",
       "      <td>1</td>\n",
       "      <td>-0.061389</td>\n",
       "      <td>2</td>\n",
       "      <td>1.984292</td>\n",
       "      <td>-0.879579</td>\n",
       "      <td>2</td>\n",
       "      <td>-0.244898</td>\n",
       "      <td>0.564498</td>\n",
       "      <td>1</td>\n",
       "      <td>0.603546</td>\n",
       "      <td>1</td>\n",
       "      <td>3</td>\n",
       "      <td>0.151501</td>\n",
       "    </tr>\n",
       "    <tr>\n",
       "      <th>4</th>\n",
       "      <td>E1001010</td>\n",
       "      <td>2.541054</td>\n",
       "      <td>1</td>\n",
       "      <td>3</td>\n",
       "      <td>1</td>\n",
       "      <td>5</td>\n",
       "      <td>18</td>\n",
       "      <td>2</td>\n",
       "      <td>0.836165</td>\n",
       "      <td>4</td>\n",
       "      <td>1</td>\n",
       "      <td>0.891870</td>\n",
       "      <td>3</td>\n",
       "      <td>2</td>\n",
       "      <td>1</td>\n",
       "      <td>8</td>\n",
       "      <td>1</td>\n",
       "      <td>-0.337297</td>\n",
       "      <td>4</td>\n",
       "      <td>-0.058535</td>\n",
       "      <td>-2.303999</td>\n",
       "      <td>3</td>\n",
       "      <td>-0.912803</td>\n",
       "      <td>-0.633905</td>\n",
       "      <td>2</td>\n",
       "      <td>-0.593570</td>\n",
       "      <td>1</td>\n",
       "      <td>3</td>\n",
       "      <td>0.652311</td>\n",
       "    </tr>\n",
       "  </tbody>\n",
       "</table>\n",
       "</div>"
      ],
      "text/plain": [
       "  EmpNumber       Age  Gender EducationBackground  MaritalStatus  \\\n",
       "0  E1001000 -0.541458       1                   3              1   \n",
       "1  E1001006  1.109888       1                   3              1   \n",
       "2  E1001007  0.339260       1                   5              2   \n",
       "3  E1001009  0.449349       1                   0              0   \n",
       "4  E1001010  2.541054       1                   3              1   \n",
       "\n",
       "  EmpDepartment EmpJobRole  BusinessTravelFrequency  DistanceFromHome  \\\n",
       "0             5         18                        2          0.102061   \n",
       "1             5         18                        2          0.591464   \n",
       "2             5         18                        1         -0.509693   \n",
       "3             2         11                        2          0.102061   \n",
       "4             5         18                        2          0.836165   \n",
       "\n",
       "   EmpEducationLevel  EmpEnvironmentSatisfaction  EmpHourlyRate  \\\n",
       "0                  3                           4      -0.543569   \n",
       "1                  4                           4      -1.187042   \n",
       "2                  4                           4      -0.890055   \n",
       "3                  4                           2       0.347393   \n",
       "4                  4                           1       0.891870   \n",
       "\n",
       "   EmpJobInvolvement  EmpJobLevel  EmpJobSatisfaction  NumCompaniesWorked  \\\n",
       "0                  3            2                   4                   1   \n",
       "1                  3            2                   1                   2   \n",
       "2                  2            3                   1                   5   \n",
       "3                  2            5                   4                   3   \n",
       "4                  3            2                   1                   8   \n",
       "\n",
       "   OverTime  EmpLastSalaryHikePercent  EmpRelationshipSatisfaction  \\\n",
       "0         1                 -0.889111                            4   \n",
       "1         1                 -0.889111                            4   \n",
       "2         0                  1.594054                            3   \n",
       "3         1                 -0.061389                            2   \n",
       "4         1                 -0.337297                            4   \n",
       "\n",
       "   TotalWorkExperienceInYears  TrainingTimesLastYear  EmpWorkLifeBalance  \\\n",
       "0                   -0.058535              -0.879579                   2   \n",
       "1                    1.512870              -0.879579                   3   \n",
       "2                    1.512870              -0.879579                   3   \n",
       "3                    1.984292              -0.879579                   2   \n",
       "4                   -0.058535              -2.303999                   3   \n",
       "\n",
       "   ExperienceYearsAtThisCompany  ExperienceYearsInCurrentRole  \\\n",
       "0                      0.868276                      0.864098   \n",
       "1                      0.200371                      0.864098   \n",
       "2                      2.649355                      2.661702   \n",
       "3                     -0.244898                      0.564498   \n",
       "4                     -0.912803                     -0.633905   \n",
       "\n",
       "   YearsSinceLastPromotion  YearsWithCurrManager  Attrition  \\\n",
       "0                        0              1.202103          1   \n",
       "1                        1              0.902825          1   \n",
       "2                        1              2.399219          1   \n",
       "3                        1              0.603546          1   \n",
       "4                        2             -0.593570          1   \n",
       "\n",
       "   PerformanceRating  square_YearsSinceLastPromotion  \n",
       "0                  3                       -1.057559  \n",
       "1                  3                        0.151501  \n",
       "2                  4                        0.151501  \n",
       "3                  3                        0.151501  \n",
       "4                  3                        0.652311  "
      ]
     },
     "execution_count": 56,
     "metadata": {},
     "output_type": "execute_result"
    }
   ],
   "source": [
    "data.head()"
   ]
  },
  {
   "cell_type": "markdown",
   "id": "00851325",
   "metadata": {},
   "source": [
    "### FEATURE SELECTION\n",
    "#### DROP UNIQUE AND CONTANT FEATURES"
   ]
  },
  {
   "cell_type": "code",
   "execution_count": 57,
   "id": "059e0e6a",
   "metadata": {},
   "outputs": [],
   "source": [
    "# Dropping employee number because this is a constant column as well as drop Years Since Last Promotion because we create a new feaure using square root tr\n",
    "data.drop(['EmpNumber','YearsSinceLastPromotion'],axis=1,inplace=True)"
   ]
  },
  {
   "cell_type": "markdown",
   "id": "4edbacac",
   "metadata": {},
   "source": [
    "### CHECKING CORELATION\n",
    "#### Heatmap: A heatmap is a graphical representation of data that uses a system of color-coding to represent different values."
   ]
  },
  {
   "cell_type": "code",
   "execution_count": 58,
   "id": "87a1e5ba",
   "metadata": {},
   "outputs": [
    {
     "data": {
      "image/png": "[encoded data removed]",
      "text/plain": [
       "<Figure size 1440x1440 with 2 Axes>"
      ]
     },
     "metadata": {
      "needs_background": "light"
     },
     "output_type": "display_data"
    }
   ],
   "source": [
    "plt.figure(figsize=(20,20))\n",
    "sns.heatmap(data.corr(),annot=True,cmap='BuPu')\n",
    "plt.show()"
   ]
  },
  {
   "cell_type": "markdown",
   "id": "9d103eb7",
   "metadata": {},
   "source": [
    "* From above heatmap scale we are clearly seen the their is no highly correlated feature in data\n",
    "* But we confirm with the help of simple code"
   ]
  },
  {
   "cell_type": "code",
   "execution_count": 59,
   "id": "166f6570",
   "metadata": {},
   "outputs": [
    {
     "data": {
      "text/html": [
       "<div>\n",
       "<style scoped>\n",
       "    .dataframe tbody tr th:only-of-type {\n",
       "        vertical-align: middle;\n",
       "    }\n",
       "\n",
       "    .dataframe tbody tr th {\n",
       "        vertical-align: top;\n",
       "    }\n",
       "\n",
       "    .dataframe thead th {\n",
       "        text-align: right;\n",
       "    }\n",
       "</style>\n",
       "<table border=\"1\" class=\"dataframe\">\n",
       "  <thead>\n",
       "    <tr style=\"text-align: right;\">\n",
       "      <th></th>\n",
       "      <th>feature1</th>\n",
       "      <th>feature2</th>\n",
       "      <th>corr</th>\n",
       "    </tr>\n",
       "  </thead>\n",
       "  <tbody>\n",
       "  </tbody>\n",
       "</table>\n",
       "</div>"
      ],
      "text/plain": [
       "Empty DataFrame\n",
       "Columns: [feature1, feature2, corr]\n",
       "Index: []"
      ]
     },
     "execution_count": 59,
     "metadata": {},
     "output_type": "execute_result"
    }
   ],
   "source": [
    "# To get highly corelated feature \n",
    "pd.set_option('display.max_rows',None)\n",
    "corrmat = data.corr()\n",
    "corrmat = corrmat.abs().unstack()\n",
    "corrmat = corrmat.sort_values(ascending=False)\n",
    "corrmat = corrmat [corrmat >= 0.9] # Set threshold 0.9\n",
    "corrmat = corrmat [corrmat < 1]\n",
    "corrmat = pd.DataFrame(corrmat).reset_index()\n",
    "corrmat.columns = ['feature1','feature2','corr']\n",
    "corrmat"
   ]
  },
  {
   "cell_type": "markdown",
   "id": "1f8ca01f",
   "metadata": {},
   "source": [
    "* Now we confirm their is no highly correlated feature is present."
   ]
  },
  {
   "cell_type": "markdown",
   "id": "f2b7683c",
   "metadata": {},
   "source": [
    "### CHECKING DUPLICATES"
   ]
  },
  {
   "cell_type": "code",
   "execution_count": 60,
   "id": "85cf9fa9",
   "metadata": {},
   "outputs": [
    {
     "data": {
      "text/plain": [
       "0"
      ]
     },
     "execution_count": 60,
     "metadata": {},
     "output_type": "execute_result"
    }
   ],
   "source": [
    "data.duplicated().sum()"
   ]
  },
  {
   "cell_type": "markdown",
   "id": "ce6e5b15",
   "metadata": {},
   "source": [
    "* Their is no Duplicates is present in data."
   ]
  },
  {
   "cell_type": "markdown",
   "id": "ec7ef5ed",
   "metadata": {},
   "source": [
    "### PRINCIPLE COMPONENT ANALYSIS\n",
    "* Principal component analysis (PCA) is a popular technique for analyzing large datasets containing a high number of dimensions/features per observation, increasing the interpretability of data while preserving the maximum amount of information, and enabling the visualization of multidimensional data. Formally, PCA is a statistical technique for reducing the dimensionality of a dataset.\n",
    "#### Used For: The dataset contain more than 25 feature, removes the noise in the data and keeps only the most important features in the dataset. That will mitigate the overfitting of the data and increase the model's performance."
   ]
  },
  {
   "cell_type": "code",
   "execution_count": 61,
   "id": "30459896",
   "metadata": {},
   "outputs": [
    {
     "data": {
      "image/png": "[encoded data removed]",
      "text/plain": [
       "<Figure size 720x504 with 1 Axes>"
      ]
     },
     "metadata": {
      "needs_background": "light"
     },
     "output_type": "display_data"
    }
   ],
   "source": [
    "# Getting the optimal value of PCA\n",
    "from sklearn.decomposition import PCA\n",
    "\n",
    "# Object creation\n",
    "pca = PCA()\n",
    "\n",
    "principlecomponent = pca.fit_transform(data)\n",
    "plt.figure(figsize=(10,7))\n",
    "sns.set_style('darkgrid')\n",
    "plt.plot(np.cumsum(pca.explained_variance_ratio_),color='k')\n",
    "plt.xlabel('Number of components',fontsize=20)\n",
    "plt.ylabel('Variance(%)',fontsize=20) # for each componant\n",
    "plt.title('Explained Variance',fontsize=20)\n",
    "plt.show()"
   ]
  },
  {
   "cell_type": "markdown",
   "id": "213d6485",
   "metadata": {},
   "source": [
    "#### Observation: Data is contain total 27 feature after dropping unique and constant column,from above PCA it shows the 25 feature has less varaince loss, so we are going to select 25 feature."
   ]
  },
  {
   "cell_type": "code",
   "execution_count": 62,
   "id": "57376acb",
   "metadata": {},
   "outputs": [
    {
     "data": {
      "text/plain": [
       "array([[-4.47979357e+00, -1.62579961e+00,  1.04815246e+00, ...,\n",
       "        -5.02890736e-01,  2.28337153e-01, -3.52744289e-01],\n",
       "       [-4.35607380e+00, -6.82890846e-02,  2.01617388e+00, ...,\n",
       "        -8.88367129e-01, -2.37235986e-01, -7.10042471e-01],\n",
       "       [-4.24318059e+00,  2.56096162e+00,  4.36307191e+00, ...,\n",
       "        -4.34724440e-01, -3.56723825e-01,  6.46996038e-01],\n",
       "       ...,\n",
       "       [ 1.64245087e+00, -1.73309807e+00,  3.13585566e+00, ...,\n",
       "        -1.70950647e-01,  3.39096853e-01,  1.12605457e+00],\n",
       "       [ 9.10590984e+00, -2.09875367e+00,  1.48314921e+00, ...,\n",
       "         6.10226389e-01,  1.08399769e-02, -2.99560396e-01],\n",
       "       [-4.36428097e+00,  5.98213577e+00, -2.10105411e+00, ...,\n",
       "         6.48347080e-01, -7.17937795e-03, -2.95697975e-02]])"
      ]
     },
     "execution_count": 62,
     "metadata": {},
     "output_type": "execute_result"
    }
   ],
   "source": [
    "# Selecting the components\n",
    "pca = PCA(n_components=25)\n",
    "new_data = pca.fit_transform(data)\n",
    "new_data"
   ]
  },
  {
   "cell_type": "markdown",
   "id": "85ee2a58",
   "metadata": {},
   "source": [
    "### CREATE NEW DATAFRAME"
   ]
  },
  {
   "cell_type": "code",
   "execution_count": 63,
   "id": "e6fc2417",
   "metadata": {},
   "outputs": [
    {
     "data": {
      "text/html": [
       "<div>\n",
       "<style scoped>\n",
       "    .dataframe tbody tr th:only-of-type {\n",
       "        vertical-align: middle;\n",
       "    }\n",
       "\n",
       "    .dataframe tbody tr th {\n",
       "        vertical-align: top;\n",
       "    }\n",
       "\n",
       "    .dataframe thead th {\n",
       "        text-align: right;\n",
       "    }\n",
       "</style>\n",
       "<table border=\"1\" class=\"dataframe\">\n",
       "  <thead>\n",
       "    <tr style=\"text-align: right;\">\n",
       "      <th></th>\n",
       "      <th>pca1</th>\n",
       "      <th>pca2</th>\n",
       "      <th>pca3</th>\n",
       "      <th>pca4</th>\n",
       "      <th>pca5</th>\n",
       "      <th>pca6</th>\n",
       "      <th>pca7</th>\n",
       "      <th>pca8</th>\n",
       "      <th>pca9</th>\n",
       "      <th>pca10</th>\n",
       "      <th>pca11</th>\n",
       "      <th>pca12</th>\n",
       "      <th>pca13</th>\n",
       "      <th>pca14</th>\n",
       "      <th>pca15</th>\n",
       "      <th>pca16</th>\n",
       "      <th>pca17</th>\n",
       "      <th>pca18</th>\n",
       "      <th>pca19</th>\n",
       "      <th>pca20</th>\n",
       "      <th>pca21</th>\n",
       "      <th>pca22</th>\n",
       "      <th>pca23</th>\n",
       "      <th>pca24</th>\n",
       "      <th>pca25</th>\n",
       "      <th>PerformanceRating</th>\n",
       "    </tr>\n",
       "  </thead>\n",
       "  <tbody>\n",
       "    <tr>\n",
       "      <th>0</th>\n",
       "      <td>-4.479794</td>\n",
       "      <td>-1.625800</td>\n",
       "      <td>1.048152</td>\n",
       "      <td>0.935689</td>\n",
       "      <td>-0.917397</td>\n",
       "      <td>1.027783</td>\n",
       "      <td>-0.831539</td>\n",
       "      <td>-1.471238</td>\n",
       "      <td>0.515184</td>\n",
       "      <td>0.449498</td>\n",
       "      <td>-1.242865</td>\n",
       "      <td>-0.169772</td>\n",
       "      <td>-0.859328</td>\n",
       "      <td>-0.263105</td>\n",
       "      <td>1.361126</td>\n",
       "      <td>-0.655418</td>\n",
       "      <td>0.888525</td>\n",
       "      <td>0.099724</td>\n",
       "      <td>-0.470607</td>\n",
       "      <td>0.012552</td>\n",
       "      <td>0.192366</td>\n",
       "      <td>0.199055</td>\n",
       "      <td>-0.502891</td>\n",
       "      <td>0.228337</td>\n",
       "      <td>-0.352744</td>\n",
       "      <td>3</td>\n",
       "    </tr>\n",
       "    <tr>\n",
       "      <th>1</th>\n",
       "      <td>-4.356074</td>\n",
       "      <td>-0.068289</td>\n",
       "      <td>2.016174</td>\n",
       "      <td>1.516783</td>\n",
       "      <td>0.418864</td>\n",
       "      <td>-0.582535</td>\n",
       "      <td>-1.714894</td>\n",
       "      <td>0.026681</td>\n",
       "      <td>0.985278</td>\n",
       "      <td>0.830725</td>\n",
       "      <td>-1.723557</td>\n",
       "      <td>1.171481</td>\n",
       "      <td>0.265575</td>\n",
       "      <td>0.276425</td>\n",
       "      <td>0.133615</td>\n",
       "      <td>-0.157664</td>\n",
       "      <td>0.505885</td>\n",
       "      <td>-0.359134</td>\n",
       "      <td>0.420803</td>\n",
       "      <td>-0.929058</td>\n",
       "      <td>-0.495041</td>\n",
       "      <td>0.306019</td>\n",
       "      <td>-0.888367</td>\n",
       "      <td>-0.237236</td>\n",
       "      <td>-0.710042</td>\n",
       "      <td>3</td>\n",
       "    </tr>\n",
       "    <tr>\n",
       "      <th>2</th>\n",
       "      <td>-4.243181</td>\n",
       "      <td>2.560962</td>\n",
       "      <td>4.363072</td>\n",
       "      <td>-0.182532</td>\n",
       "      <td>-1.773880</td>\n",
       "      <td>-0.362873</td>\n",
       "      <td>-0.431528</td>\n",
       "      <td>1.308032</td>\n",
       "      <td>0.449781</td>\n",
       "      <td>1.957530</td>\n",
       "      <td>0.189355</td>\n",
       "      <td>2.290069</td>\n",
       "      <td>-1.197808</td>\n",
       "      <td>0.131160</td>\n",
       "      <td>0.786889</td>\n",
       "      <td>-1.267936</td>\n",
       "      <td>-0.624628</td>\n",
       "      <td>0.504683</td>\n",
       "      <td>0.559195</td>\n",
       "      <td>0.081618</td>\n",
       "      <td>-0.256092</td>\n",
       "      <td>-0.242872</td>\n",
       "      <td>-0.434724</td>\n",
       "      <td>-0.356724</td>\n",
       "      <td>0.646996</td>\n",
       "      <td>4</td>\n",
       "    </tr>\n",
       "    <tr>\n",
       "      <th>3</th>\n",
       "      <td>3.013748</td>\n",
       "      <td>0.725983</td>\n",
       "      <td>2.326672</td>\n",
       "      <td>3.288183</td>\n",
       "      <td>2.309574</td>\n",
       "      <td>1.909985</td>\n",
       "      <td>1.083119</td>\n",
       "      <td>-0.226786</td>\n",
       "      <td>-0.112988</td>\n",
       "      <td>-0.191132</td>\n",
       "      <td>-0.139197</td>\n",
       "      <td>-1.408616</td>\n",
       "      <td>-0.384020</td>\n",
       "      <td>1.151003</td>\n",
       "      <td>0.504962</td>\n",
       "      <td>1.558104</td>\n",
       "      <td>-0.273501</td>\n",
       "      <td>0.891281</td>\n",
       "      <td>-1.533583</td>\n",
       "      <td>0.700066</td>\n",
       "      <td>0.113402</td>\n",
       "      <td>-0.186438</td>\n",
       "      <td>-0.566017</td>\n",
       "      <td>-0.066069</td>\n",
       "      <td>-0.500048</td>\n",
       "      <td>3</td>\n",
       "    </tr>\n",
       "    <tr>\n",
       "      <th>4</th>\n",
       "      <td>-4.246565</td>\n",
       "      <td>5.966600</td>\n",
       "      <td>-0.246302</td>\n",
       "      <td>0.789979</td>\n",
       "      <td>2.096761</td>\n",
       "      <td>-1.712339</td>\n",
       "      <td>0.769025</td>\n",
       "      <td>-0.516950</td>\n",
       "      <td>0.788577</td>\n",
       "      <td>1.125638</td>\n",
       "      <td>-1.642460</td>\n",
       "      <td>0.142828</td>\n",
       "      <td>-0.727865</td>\n",
       "      <td>-0.051626</td>\n",
       "      <td>-1.509516</td>\n",
       "      <td>0.652274</td>\n",
       "      <td>0.614179</td>\n",
       "      <td>-0.295793</td>\n",
       "      <td>0.970469</td>\n",
       "      <td>-1.179984</td>\n",
       "      <td>0.793859</td>\n",
       "      <td>-0.107046</td>\n",
       "      <td>-0.218167</td>\n",
       "      <td>0.456973</td>\n",
       "      <td>-0.147894</td>\n",
       "      <td>3</td>\n",
       "    </tr>\n",
       "  </tbody>\n",
       "</table>\n",
       "</div>"
      ],
      "text/plain": [
       "       pca1      pca2      pca3      pca4      pca5      pca6      pca7  \\\n",
       "0 -4.479794 -1.625800  1.048152  0.935689 -0.917397  1.027783 -0.831539   \n",
       "1 -4.356074 -0.068289  2.016174  1.516783  0.418864 -0.582535 -1.714894   \n",
       "2 -4.243181  2.560962  4.363072 -0.182532 -1.773880 -0.362873 -0.431528   \n",
       "3  3.013748  0.725983  2.326672  3.288183  2.309574  1.909985  1.083119   \n",
       "4 -4.246565  5.966600 -0.246302  0.789979  2.096761 -1.712339  0.769025   \n",
       "\n",
       "       pca8      pca9     pca10     pca11     pca12     pca13     pca14  \\\n",
       "0 -1.471238  0.515184  0.449498 -1.242865 -0.169772 -0.859328 -0.263105   \n",
       "1  0.026681  0.985278  0.830725 -1.723557  1.171481  0.265575  0.276425   \n",
       "2  1.308032  0.449781  1.957530  0.189355  2.290069 -1.197808  0.131160   \n",
       "3 -0.226786 -0.112988 -0.191132 -0.139197 -1.408616 -0.384020  1.151003   \n",
       "4 -0.516950  0.788577  1.125638 -1.642460  0.142828 -0.727865 -0.051626   \n",
       "\n",
       "      pca15     pca16     pca17     pca18     pca19     pca20     pca21  \\\n",
       "0  1.361126 -0.655418  0.888525  0.099724 -0.470607  0.012552  0.192366   \n",
       "1  0.133615 -0.157664  0.505885 -0.359134  0.420803 -0.929058 -0.495041   \n",
       "2  0.786889 -1.267936 -0.624628  0.504683  0.559195  0.081618 -0.256092   \n",
       "3  0.504962  1.558104 -0.273501  0.891281 -1.533583  0.700066  0.113402   \n",
       "4 -1.509516  0.652274  0.614179 -0.295793  0.970469 -1.179984  0.793859   \n",
       "\n",
       "      pca22     pca23     pca24     pca25  PerformanceRating  \n",
       "0  0.199055 -0.502891  0.228337 -0.352744                  3  \n",
       "1  0.306019 -0.888367 -0.237236 -0.710042                  3  \n",
       "2 -0.242872 -0.434724 -0.356724  0.646996                  4  \n",
       "3 -0.186438 -0.566017 -0.066069 -0.500048                  3  \n",
       "4 -0.107046 -0.218167  0.456973 -0.147894                  3  "
      ]
     },
     "execution_count": 63,
     "metadata": {},
     "output_type": "execute_result"
    }
   ],
   "source": [
    "principle_df = pd.DataFrame(data=new_data,columns=['pca1','pca2','pca3','pca4','pca5','pca6','pca7','pca8','pca9','pca10',\n",
    "                            'pca11','pca12','pca13','pca14','pca15','pca16','pca17','pca18','pca19','pca20','pca21','pca22',\n",
    "                            'pca23','pca24','pca25'])\n",
    "\n",
    "# Add target veriable to preprocess dataframe for model building & evaluation\n",
    "principle_df['PerformanceRating']=data.PerformanceRating\n",
    "\n",
    "principle_df.head()"
   ]
  },
  {
   "cell_type": "markdown",
   "id": "9362d2a8",
   "metadata": {},
   "source": [
    "### SAVE PRE-PROCESS DATA"
   ]
  },
  {
   "cell_type": "code",
   "execution_count": 64,
   "id": "affd8258",
   "metadata": {},
   "outputs": [
    {
     "data": {
      "text/html": [
       "<div>\n",
       "<style scoped>\n",
       "    .dataframe tbody tr th:only-of-type {\n",
       "        vertical-align: middle;\n",
       "    }\n",
       "\n",
       "    .dataframe tbody tr th {\n",
       "        vertical-align: top;\n",
       "    }\n",
       "\n",
       "    .dataframe thead th {\n",
       "        text-align: right;\n",
       "    }\n",
       "</style>\n",
       "<table border=\"1\" class=\"dataframe\">\n",
       "  <thead>\n",
       "    <tr style=\"text-align: right;\">\n",
       "      <th></th>\n",
       "      <th>Unnamed: 0</th>\n",
       "      <th>pca1</th>\n",
       "      <th>pca2</th>\n",
       "      <th>pca3</th>\n",
       "      <th>pca4</th>\n",
       "      <th>pca5</th>\n",
       "      <th>pca6</th>\n",
       "      <th>pca7</th>\n",
       "      <th>pca8</th>\n",
       "      <th>pca9</th>\n",
       "      <th>pca10</th>\n",
       "      <th>pca11</th>\n",
       "      <th>pca12</th>\n",
       "      <th>pca13</th>\n",
       "      <th>pca14</th>\n",
       "      <th>pca15</th>\n",
       "      <th>pca16</th>\n",
       "      <th>pca17</th>\n",
       "      <th>pca18</th>\n",
       "      <th>pca19</th>\n",
       "      <th>pca20</th>\n",
       "      <th>pca21</th>\n",
       "      <th>pca22</th>\n",
       "      <th>pca23</th>\n",
       "      <th>pca24</th>\n",
       "      <th>pca25</th>\n",
       "      <th>PerformanceRating</th>\n",
       "    </tr>\n",
       "  </thead>\n",
       "  <tbody>\n",
       "    <tr>\n",
       "      <th>0</th>\n",
       "      <td>0</td>\n",
       "      <td>-4.479794</td>\n",
       "      <td>-1.625800</td>\n",
       "      <td>1.048152</td>\n",
       "      <td>0.935689</td>\n",
       "      <td>-0.917397</td>\n",
       "      <td>1.027783</td>\n",
       "      <td>-0.831539</td>\n",
       "      <td>-1.471238</td>\n",
       "      <td>0.515184</td>\n",
       "      <td>0.449498</td>\n",
       "      <td>-1.242865</td>\n",
       "      <td>-0.169772</td>\n",
       "      <td>-0.859328</td>\n",
       "      <td>-0.263105</td>\n",
       "      <td>1.361126</td>\n",
       "      <td>-0.655418</td>\n",
       "      <td>0.888525</td>\n",
       "      <td>0.099724</td>\n",
       "      <td>-0.470607</td>\n",
       "      <td>0.012552</td>\n",
       "      <td>0.192366</td>\n",
       "      <td>0.199055</td>\n",
       "      <td>-0.502891</td>\n",
       "      <td>0.228337</td>\n",
       "      <td>-0.352744</td>\n",
       "      <td>3</td>\n",
       "    </tr>\n",
       "    <tr>\n",
       "      <th>1</th>\n",
       "      <td>1</td>\n",
       "      <td>-4.356074</td>\n",
       "      <td>-0.068289</td>\n",
       "      <td>2.016174</td>\n",
       "      <td>1.516783</td>\n",
       "      <td>0.418864</td>\n",
       "      <td>-0.582535</td>\n",
       "      <td>-1.714894</td>\n",
       "      <td>0.026681</td>\n",
       "      <td>0.985278</td>\n",
       "      <td>0.830725</td>\n",
       "      <td>-1.723557</td>\n",
       "      <td>1.171481</td>\n",
       "      <td>0.265575</td>\n",
       "      <td>0.276425</td>\n",
       "      <td>0.133615</td>\n",
       "      <td>-0.157664</td>\n",
       "      <td>0.505885</td>\n",
       "      <td>-0.359134</td>\n",
       "      <td>0.420803</td>\n",
       "      <td>-0.929058</td>\n",
       "      <td>-0.495041</td>\n",
       "      <td>0.306019</td>\n",
       "      <td>-0.888367</td>\n",
       "      <td>-0.237236</td>\n",
       "      <td>-0.710042</td>\n",
       "      <td>3</td>\n",
       "    </tr>\n",
       "    <tr>\n",
       "      <th>2</th>\n",
       "      <td>2</td>\n",
       "      <td>-4.243181</td>\n",
       "      <td>2.560962</td>\n",
       "      <td>4.363072</td>\n",
       "      <td>-0.182532</td>\n",
       "      <td>-1.773880</td>\n",
       "      <td>-0.362873</td>\n",
       "      <td>-0.431528</td>\n",
       "      <td>1.308032</td>\n",
       "      <td>0.449781</td>\n",
       "      <td>1.957530</td>\n",
       "      <td>0.189355</td>\n",
       "      <td>2.290069</td>\n",
       "      <td>-1.197808</td>\n",
       "      <td>0.131160</td>\n",
       "      <td>0.786889</td>\n",
       "      <td>-1.267936</td>\n",
       "      <td>-0.624628</td>\n",
       "      <td>0.504683</td>\n",
       "      <td>0.559195</td>\n",
       "      <td>0.081618</td>\n",
       "      <td>-0.256092</td>\n",
       "      <td>-0.242872</td>\n",
       "      <td>-0.434724</td>\n",
       "      <td>-0.356724</td>\n",
       "      <td>0.646996</td>\n",
       "      <td>4</td>\n",
       "    </tr>\n",
       "    <tr>\n",
       "      <th>3</th>\n",
       "      <td>3</td>\n",
       "      <td>3.013748</td>\n",
       "      <td>0.725983</td>\n",
       "      <td>2.326672</td>\n",
       "      <td>3.288183</td>\n",
       "      <td>2.309574</td>\n",
       "      <td>1.909985</td>\n",
       "      <td>1.083119</td>\n",
       "      <td>-0.226786</td>\n",
       "      <td>-0.112988</td>\n",
       "      <td>-0.191132</td>\n",
       "      <td>-0.139197</td>\n",
       "      <td>-1.408616</td>\n",
       "      <td>-0.384020</td>\n",
       "      <td>1.151003</td>\n",
       "      <td>0.504962</td>\n",
       "      <td>1.558104</td>\n",
       "      <td>-0.273501</td>\n",
       "      <td>0.891281</td>\n",
       "      <td>-1.533583</td>\n",
       "      <td>0.700066</td>\n",
       "      <td>0.113402</td>\n",
       "      <td>-0.186438</td>\n",
       "      <td>-0.566017</td>\n",
       "      <td>-0.066069</td>\n",
       "      <td>-0.500048</td>\n",
       "      <td>3</td>\n",
       "    </tr>\n",
       "    <tr>\n",
       "      <th>4</th>\n",
       "      <td>4</td>\n",
       "      <td>-4.246565</td>\n",
       "      <td>5.966600</td>\n",
       "      <td>-0.246302</td>\n",
       "      <td>0.789979</td>\n",
       "      <td>2.096761</td>\n",
       "      <td>-1.712339</td>\n",
       "      <td>0.769025</td>\n",
       "      <td>-0.516950</td>\n",
       "      <td>0.788577</td>\n",
       "      <td>1.125638</td>\n",
       "      <td>-1.642460</td>\n",
       "      <td>0.142828</td>\n",
       "      <td>-0.727865</td>\n",
       "      <td>-0.051626</td>\n",
       "      <td>-1.509516</td>\n",
       "      <td>0.652274</td>\n",
       "      <td>0.614179</td>\n",
       "      <td>-0.295793</td>\n",
       "      <td>0.970469</td>\n",
       "      <td>-1.179984</td>\n",
       "      <td>0.793859</td>\n",
       "      <td>-0.107046</td>\n",
       "      <td>-0.218167</td>\n",
       "      <td>0.456973</td>\n",
       "      <td>-0.147894</td>\n",
       "      <td>3</td>\n",
       "    </tr>\n",
       "  </tbody>\n",
       "</table>\n",
       "</div>"
      ],
      "text/plain": [
       "   Unnamed: 0      pca1      pca2      pca3      pca4      pca5      pca6  \\\n",
       "0           0 -4.479794 -1.625800  1.048152  0.935689 -0.917397  1.027783   \n",
       "1           1 -4.356074 -0.068289  2.016174  1.516783  0.418864 -0.582535   \n",
       "2           2 -4.243181  2.560962  4.363072 -0.182532 -1.773880 -0.362873   \n",
       "3           3  3.013748  0.725983  2.326672  3.288183  2.309574  1.909985   \n",
       "4           4 -4.246565  5.966600 -0.246302  0.789979  2.096761 -1.712339   \n",
       "\n",
       "       pca7      pca8      pca9     pca10     pca11     pca12     pca13  \\\n",
       "0 -0.831539 -1.471238  0.515184  0.449498 -1.242865 -0.169772 -0.859328   \n",
       "1 -1.714894  0.026681  0.985278  0.830725 -1.723557  1.171481  0.265575   \n",
       "2 -0.431528  1.308032  0.449781  1.957530  0.189355  2.290069 -1.197808   \n",
       "3  1.083119 -0.226786 -0.112988 -0.191132 -0.139197 -1.408616 -0.384020   \n",
       "4  0.769025 -0.516950  0.788577  1.125638 -1.642460  0.142828 -0.727865   \n",
       "\n",
       "      pca14     pca15     pca16     pca17     pca18     pca19     pca20  \\\n",
       "0 -0.263105  1.361126 -0.655418  0.888525  0.099724 -0.470607  0.012552   \n",
       "1  0.276425  0.133615 -0.157664  0.505885 -0.359134  0.420803 -0.929058   \n",
       "2  0.131160  0.786889 -1.267936 -0.624628  0.504683  0.559195  0.081618   \n",
       "3  1.151003  0.504962  1.558104 -0.273501  0.891281 -1.533583  0.700066   \n",
       "4 -0.051626 -1.509516  0.652274  0.614179 -0.295793  0.970469 -1.179984   \n",
       "\n",
       "      pca21     pca22     pca23     pca24     pca25  PerformanceRating  \n",
       "0  0.192366  0.199055 -0.502891  0.228337 -0.352744                  3  \n",
       "1 -0.495041  0.306019 -0.888367 -0.237236 -0.710042                  3  \n",
       "2 -0.256092 -0.242872 -0.434724 -0.356724  0.646996                  4  \n",
       "3  0.113402 -0.186438 -0.566017 -0.066069 -0.500048                  3  \n",
       "4  0.793859 -0.107046 -0.218167  0.456973 -0.147894                  3  "
      ]
     },
     "execution_count": 64,
     "metadata": {},
     "output_type": "execute_result"
    }
   ],
   "source": [
    "principle_df.to_csv('employee_performance_analysis_preprocessed_data.csv')\n",
    "\n",
    "# Reading new preprocess csv file\n",
    "df = pd.read_csv('employee_performance_analysis_preprocessed_data.csv')\n",
    "\n",
    "# Get first five rows \n",
    "df.head()"
   ]
  }
 ],
 "metadata": {
  "kernelspec": {
   "display_name": "Python 3 (ipykernel)",
   "language": "python",
   "name": "python3"
  },
  "language_info": {
   "codemirror_mode": {
    "name": "ipython",
    "version": 3
   },
   "file_extension": ".py",
   "mimetype": "text/x-python",
   "name": "python",
   "nbconvert_exporter": "python",
   "pygments_lexer": "ipython3",
   "version": "3.9.12"
  }
 },
 "nbformat": 4,
 "nbformat_minor": 5
}
